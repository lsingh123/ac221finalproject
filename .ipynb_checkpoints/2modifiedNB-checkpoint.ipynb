{
 "cells": [
  {
   "cell_type": "markdown",
   "metadata": {},
   "source": [
    "# 2-NB Models"
   ]
  },
  {
   "cell_type": "code",
   "execution_count": 1,
   "metadata": {},
   "outputs": [
    {
     "name": "stdout",
     "output_type": "stream",
     "text": [
      "0 HOUSEHOLD IDENTIFIER\n",
      "1 ARE YOUR LIVING QUARTERS...\n",
      "2 IS THERE A TELEPHONE IN THIS \n",
      "3 FAMILY INCOME\n",
      "4 TOTAL NUMBER OF PERSONS LIVING \n",
      "5 REGION\n",
      "6 DIVISION\n",
      "7 INDIVIDUAL PRINCIPAL CITY\n",
      "8 PERSONS AGE  \n",
      "9 MARITAL STATUS \n",
      "10 SEX\n",
      "11 DID YOU EVER SERVE ON ACTIVE \n",
      "12 HIGHEST LEVEL OF SCHOOL \n",
      "13 RACE\n",
      "14 CHANGE IN HOUSEHOLD COMPOSITION\n",
      "15 HISPANIC OR NON-HISPANIC\n",
      "16 COUNTRY OF BIRTH\n",
      "17 CITIZENSHIP STATUS\n",
      "18 LAST WEEK, DID YOU DO ANY WORK\n",
      "19 LAST WEEK, DID YOU DO ANY\n",
      "20 DO YOU RECEIVE ANY PAYMENTS\n",
      "21 DISABILITY STATUS\n",
      "22 DO YOU CURRENTLY WANT A JOB, EITHER \n",
      "23 INDUSTRY AND OCCUPATION \n",
      "24 CLASS OF WORKER\n",
      "25 CLASS OF WORKER\n",
      "26 COW - PRIVATE OR GOVERNMENT\n",
      "27 PERIODICITY\n",
      "28 HOURLY/NONHOURLY STATUS\n",
      "29 ON THIS JOB, ARE YOU A MEMBER OF A \n",
      "30 ON THIS JOB ARE YOU COVERED BY A UNION \n",
      "31 PRESENCE OF OWN CHILDREN <18 YEARS \n",
      "32 Number of own children <18 years of age \n",
      "33 race-binary\n"
     ]
    }
   ],
   "source": [
    "import csv\n",
    "\n",
    "file = 'cleaned3.csv'\n",
    "\n",
    "with open(file, 'r') as fi:\n",
    "    reader = csv.reader(fi)\n",
    "    headers = next(reader)\n",
    "    for i in range(len(headers)):\n",
    "        print(i, headers[i])     "
   ]
  },
  {
   "cell_type": "markdown",
   "metadata": {},
   "source": [
    "## Prep: Reading the data in"
   ]
  },
  {
   "cell_type": "code",
   "execution_count": 2,
   "metadata": {},
   "outputs": [],
   "source": [
    "with open(file, 'r') as fi:\n",
    "    reader = csv.reader(fi)\n",
    "    headers = next(reader)\n",
    "    \n",
    "    white = []\n",
    "    nonwhite = []\n",
    "    income_w = []\n",
    "    income_n = []\n",
    "    counts = [0 for i in range(27)]\n",
    "    \n",
    "    for line in reader:\n",
    "        \n",
    "        # remove id, income, race, and race_binary\n",
    "        data = []\n",
    "        for i in range(len(line)):\n",
    "            if i != 0 and i != 13 and i != 3 and i != 33:\n",
    "                data.append(int(line[i]))\n",
    "\n",
    "        # put in the correct racial category\n",
    "        if int(line[13]) == 1:\n",
    "            white.append(data)\n",
    "            income_w.append(int(line[3]))\n",
    "        else:\n",
    "            nonwhite.append(data)\n",
    "            income_n.append(int(line[3]))\n"
   ]
  },
  {
   "cell_type": "code",
   "execution_count": 3,
   "metadata": {},
   "outputs": [
    {
     "name": "stdout",
     "output_type": "stream",
     "text": [
      "104841\n",
      "26918\n"
     ]
    }
   ],
   "source": [
    "# something that might cause problems - there's WAY more data for white people\n",
    "print(len(white))\n",
    "print(len(nonwhite))"
   ]
  },
  {
   "cell_type": "markdown",
   "metadata": {},
   "source": [
    "## Making the Models"
   ]
  },
  {
   "cell_type": "markdown",
   "metadata": {},
   "source": [
    "I am going to make the models using k-fold cross validation to try to improve the accuracy. Let's start with white people."
   ]
  },
  {
   "cell_type": "code",
   "execution_count": 4,
   "metadata": {},
   "outputs": [
    {
     "name": "stdout",
     "output_type": "stream",
     "text": [
      "accuracy rate:  0.8371006199332379\n",
      "accuracy rate:  0.8151468904998093\n",
      "accuracy rate:  0.8441434566959176\n",
      "accuracy rate:  0.8863983212514307\n",
      "accuracy rate:  0.8987981686379245\n",
      "accuracy rate:  0.8512018313620755\n",
      "accuracy rate:  0.8915490270888974\n",
      "accuracy rate:  0.8908813429988554\n",
      "accuracy rate:  0.8283098054177794\n",
      "accuracy rate:  0.9009919877909195\n"
     ]
    }
   ],
   "source": [
    "import numpy as np\n",
    "from sklearn.naive_bayes import GaussianNB\n",
    "from sklearn.model_selection import KFold\n",
    "\n",
    "# returns indexes into fields and labels\n",
    "def run_kfold(fields, labels):\n",
    "    kf = KFold(n_splits=10)\n",
    "    best = [], []\n",
    "    best_accuracy = 0\n",
    "\n",
    "    # train_index and test_index index into fields and labels\n",
    "    for train_index, test_index in kf.split(fields):\n",
    "        train_fields = [fields[i] for i in train_index]\n",
    "        train_labels = [labels[i] for i in train_index]\n",
    "        test_fields = [fields[i] for i in test_index]\n",
    "        test_labels = [labels[i] for i in test_index]\n",
    "\n",
    "        clf = GaussianNB()\n",
    "        clf.fit(train_fields, train_labels)\n",
    "\n",
    "        res = clf.predict(test_fields).tolist()\n",
    "        \n",
    "        accuracy = []\n",
    "        for i in range(len(res)):\n",
    "            if res[i] == test_labels[i]:\n",
    "                accuracy.append(1)\n",
    "            else:\n",
    "                accuracy.append(0)\n",
    "        #accuracy = [1 if res[i] == test_labels[i] else 0 for i in range(len(res))]\n",
    "        acc = sum(accuracy)/len(accuracy)\n",
    "\n",
    "        if (acc > best_accuracy):\n",
    "            best = train_index, test_index\n",
    "            best_accuracy = acc\n",
    "\n",
    "        print(\"accuracy rate: \", acc)\n",
    "    return best\n",
    "\n",
    "training_w, testing_w = run_kfold(white, income_w)"
   ]
  },
  {
   "cell_type": "markdown",
   "metadata": {},
   "source": [
    "And now for nonwhite people"
   ]
  },
  {
   "cell_type": "code",
   "execution_count": 5,
   "metadata": {},
   "outputs": [
    {
     "name": "stdout",
     "output_type": "stream",
     "text": [
      "accuracy rate:  0.6861069836552749\n",
      "accuracy rate:  0.736627043090639\n",
      "accuracy rate:  0.6485884101040119\n",
      "accuracy rate:  0.6853640416047548\n",
      "accuracy rate:  0.6523031203566122\n",
      "accuracy rate:  0.6530460624071323\n",
      "accuracy rate:  0.6797919762258544\n",
      "accuracy rate:  0.6225854383358098\n",
      "accuracy rate:  0.6387959866220736\n",
      "accuracy rate:  0.6250464511334076\n"
     ]
    }
   ],
   "source": [
    "training_n, testing_n = run_kfold(nonwhite, income_n)"
   ]
  },
  {
   "cell_type": "markdown",
   "metadata": {},
   "source": [
    "## Accuracy"
   ]
  },
  {
   "cell_type": "markdown",
   "metadata": {},
   "source": [
    "### Differential Accuracy by Race Binary"
   ]
  },
  {
   "cell_type": "markdown",
   "metadata": {},
   "source": [
    "Let's examine the false positive and false negative rates respectively. **White people**:"
   ]
  },
  {
   "cell_type": "code",
   "execution_count": 42,
   "metadata": {},
   "outputs": [
    {
     "name": "stdout",
     "output_type": "stream",
     "text": [
      "Results of running the model for white people:\n",
      "false positive rate: 0.022797\n",
      "false negative rate: 0.076211\n",
      "accuracy: 0.900992\n"
     ]
    }
   ],
   "source": [
    "#training and testing index into fields and labels \n",
    "#so max(training) < len(fields) \n",
    "def run_model(training, testing, fields, labels):\n",
    "    train_fields = [fields[i] for i in training]\n",
    "    train_labels = [labels[i] for i in training]\n",
    "    test_fields = [fields[i] for i in testing]\n",
    "    test_labels = [labels[i] for i in testing]\n",
    "\n",
    "    clf = GaussianNB()\n",
    "    clf.fit(train_fields, train_labels)\n",
    "\n",
    "    res = clf.predict(test_fields).tolist()\n",
    "\n",
    "    accuracy = []\n",
    "    for i in range(len(res)):\n",
    "        if res[i] == 1 and test_labels[i] == 0:\n",
    "            accuracy.append(1)\n",
    "        elif res[i] == 0 and test_labels[i] == 1:\n",
    "            accuracy.append(-1)\n",
    "        else:\n",
    "            accuracy.append(0)\n",
    "\n",
    "    fp = sum([1 if accuracy[i] == 1 else 0 for i in range(len(accuracy))])/len(accuracy)\n",
    "    fn = sum([1 if accuracy[i] == -1 else 0 for i in range(len(accuracy))])/len(accuracy)\n",
    "    acc = sum([1 if accuracy[i] == 0 else 0 for i in range(len(accuracy))])/len(accuracy)\n",
    "    print(\"false positive rate: %4f\" % fp)\n",
    "    print(\"false negative rate: %4f\" % fn)\n",
    "    print(\"accuracy: %4f\" % acc)\n",
    "    return res, acc, fp, fn\n",
    "\n",
    "print(\"Results of running the model for white people:\")\n",
    "res_w, acc_w, fp_w, fn_w = run_model(training_w, testing_w, white, income_w)\n"
   ]
  },
  {
   "cell_type": "markdown",
   "metadata": {},
   "source": [
    "And now for **nonwhite people:**"
   ]
  },
  {
   "cell_type": "code",
   "execution_count": 43,
   "metadata": {},
   "outputs": [
    {
     "name": "stdout",
     "output_type": "stream",
     "text": [
      "Results of running the model for nonwhite people:\n",
      "false positive rate: 0.026374\n",
      "false negative rate: 0.236999\n",
      "accuracy: 0.736627\n"
     ]
    }
   ],
   "source": [
    "print(\"Results of running the model for nonwhite people:\")\n",
    "res_n, acc_n, fp_n, fn_n = run_model(training_n, testing_n, nonwhite, income_n)"
   ]
  },
  {
   "cell_type": "markdown",
   "metadata": {},
   "source": [
    "**Overall Accuracy**"
   ]
  },
  {
   "cell_type": "code",
   "execution_count": 44,
   "metadata": {},
   "outputs": [
    {
     "name": "stdout",
     "output_type": "stream",
     "text": [
      "false positive rate: 0.023528\n",
      "false negative rate: 0.109062\n",
      "accuracy: 0.867410\n"
     ]
    }
   ],
   "source": [
    "acc = (acc_n*len(res_n)+acc_w*len(res_w))/(len(res_n)+len(res_w))\n",
    "fp = (fp_n*len(res_n)+fp_w*len(res_w))/(len(res_n)+len(res_w))\n",
    "fn = (fn_n*len(res_n)+fn_w*len(res_w))/(len(res_n)+len(res_w))\n",
    "print(\"false positive rate: %4f\" % fp)\n",
    "print(\"false negative rate: %4f\" % fn)\n",
    "print(\"accuracy: %4f\" % acc)"
   ]
  },
  {
   "cell_type": "markdown",
   "metadata": {},
   "source": [
    "### Differential Accuracy by Sex"
   ]
  },
  {
   "cell_type": "markdown",
   "metadata": {},
   "source": [
    "Let's examine differential accuracy for different subgroups. Let's initially break it down by sex."
   ]
  },
  {
   "cell_type": "code",
   "execution_count": 12,
   "metadata": {},
   "outputs": [],
   "source": [
    "def calc_accuracy(res, labels):\n",
    "    \n",
    "    accuracy = []\n",
    "    for i in range(len(res)):\n",
    "        if res[i] == 1 and labels[i] == 0:\n",
    "            accuracy.append(1)\n",
    "        elif res[i] == 0 and labels[i] == 1:\n",
    "            accuracy.append(-1)\n",
    "        else:\n",
    "            accuracy.append(0)\n",
    "    return accuracy\n",
    "\n",
    "\n",
    "def sex_accuracy(testing, fields, labels, res):\n",
    "    test_fields = [fields[i] for i in testing]\n",
    "    test_labels = [labels[i] for i in testing]\n",
    "        \n",
    "    male = []\n",
    "    female = []\n",
    "    \n",
    "    for i in range(len(testing)):\n",
    "        if fields[testing[i]][8] == 1:\n",
    "            male.append(i)\n",
    "        if fields[testing[i]][8] == 2:\n",
    "            female.append(i)\n",
    "            \n",
    "    accuracy = calc_accuracy([res[i] for i in male], [test_labels[i] for i in male])\n",
    "    fp = sum([1 if accuracy[i] == 1 else 0 for i in range(len(accuracy))])/len(accuracy)\n",
    "    fn = sum([1 if accuracy[i] == -1 else 0 for i in range(len(accuracy))])/len(accuracy)\n",
    "    print(\"Accuracy for male:\")\n",
    "    print(\"    false positive rate: %4f\" % fp)\n",
    "    print(\"    false negative rate: %4f\" % fn)\n",
    "    print(\"    accuracy: %4f\" % (1-(fp + fn)))\n",
    "    \n",
    "    accuracy = calc_accuracy([res[i] for i in female], [test_labels[i] for i in female])\n",
    "    fpf = sum([1 if accuracy[i] == 1 else 0 for i in range(len(accuracy))])/len(accuracy)\n",
    "    fnf = sum([1 if accuracy[i] == -1 else 0 for i in range(len(accuracy))])/len(accuracy)\n",
    "    print(\"Accuracy for female:\")\n",
    "    print(\"    false positive rate: %4f\" % fpf)\n",
    "    print(\"    false negative rate: %4f\" % fnf)\n",
    "    print(\"    accuracy: %4f\" % (1-(fpf + fnf)))\n",
    "    "
   ]
  },
  {
   "cell_type": "markdown",
   "metadata": {},
   "source": [
    "**Accuracy broken down by sex for nonwhite people**"
   ]
  },
  {
   "cell_type": "code",
   "execution_count": 9,
   "metadata": {},
   "outputs": [
    {
     "name": "stdout",
     "output_type": "stream",
     "text": [
      "Accuracy for male:\n",
      "    false positive rate: 0.022533\n",
      "    false negative rate: 0.243978\n",
      "    accuracy: 0.733489\n",
      "Accuracy for female:\n",
      "    false positive rate: 0.029893\n",
      "    false negative rate: 0.230605\n",
      "    accuracy: 0.739502\n"
     ]
    }
   ],
   "source": [
    "sex_accuracy(testing_n, nonwhite, income_n, res_n)"
   ]
  },
  {
   "cell_type": "markdown",
   "metadata": {},
   "source": [
    "**Accuracy broken down by sex for white people**"
   ]
  },
  {
   "cell_type": "code",
   "execution_count": 10,
   "metadata": {},
   "outputs": [
    {
     "name": "stdout",
     "output_type": "stream",
     "text": [
      "Accuracy for male:\n",
      "    false positive rate: 0.018324\n",
      "    false negative rate: 0.074060\n",
      "    accuracy: 0.907616\n",
      "Accuracy for female:\n",
      "    false positive rate: 0.027264\n",
      "    false negative rate: 0.078360\n",
      "    accuracy: 0.894376\n"
     ]
    }
   ],
   "source": [
    "sex_accuracy(testing_w, white, income_w, res_w)"
   ]
  },
  {
   "cell_type": "markdown",
   "metadata": {},
   "source": [
    "### Differential Accuracy By Race Categorical"
   ]
  },
  {
   "cell_type": "markdown",
   "metadata": {},
   "source": [
    "This is a little tricker. I first need some way to lookup up the race of each entry. Since I've removed unique identifiers, I'm going to have to go back and collect them. Let's make a list of just the racial categories."
   ]
  },
  {
   "cell_type": "code",
   "execution_count": 13,
   "metadata": {},
   "outputs": [],
   "source": [
    "race = []\n",
    "with open(file, 'r') as fi:\n",
    "    reader = csv.reader(fi)\n",
    "    headers = next(reader)\n",
    "    \n",
    "    for line in reader:\n",
    "        if (int(line[13]) != 1):\n",
    "            race.append(int(line[13]))"
   ]
  },
  {
   "cell_type": "markdown",
   "metadata": {},
   "source": [
    "**Accuracy by specific racial group for nonwhite people**"
   ]
  },
  {
   "cell_type": "code",
   "execution_count": 30,
   "metadata": {},
   "outputs": [
    {
     "name": "stdout",
     "output_type": "stream",
     "text": [
      "No results for race 0\n",
      "No results for race 1\n",
      "Results for race 2:\n",
      "    795 ENTRIES TOTAL\n",
      "    false positive rate: 0.030189\n",
      "    false negative rate: 0.304403\n",
      "    accuracy: 0.665409\n",
      "Results for race 3:\n",
      "    112 ENTRIES TOTAL\n",
      "    false positive rate: 0.026786\n",
      "    false negative rate: 0.142857\n",
      "    accuracy: 0.830357\n",
      "Results for race 4:\n",
      "    1367 ENTRIES TOTAL\n",
      "    false positive rate: 0.024140\n",
      "    false negative rate: 0.177762\n",
      "    accuracy: 0.798098\n",
      "Results for race 5:\n",
      "    106 ENTRIES TOTAL\n",
      "    false positive rate: 0.028302\n",
      "    false negative rate: 0.179245\n",
      "    accuracy: 0.792453\n",
      "Results for race 6:\n",
      "    45 ENTRIES TOTAL\n",
      "    false positive rate: 0.000000\n",
      "    false negative rate: 0.644444\n",
      "    accuracy: 0.355556\n",
      "Results for race 7:\n",
      "    77 ENTRIES TOTAL\n",
      "    false positive rate: 0.064935\n",
      "    false negative rate: 0.233766\n",
      "    accuracy: 0.701299\n",
      "Results for race 8:\n",
      "    110 ENTRIES TOTAL\n",
      "    false positive rate: 0.027273\n",
      "    false negative rate: 0.509091\n",
      "    accuracy: 0.463636\n",
      "Results for race 9:\n",
      "    14 ENTRIES TOTAL\n",
      "    false positive rate: 0.000000\n",
      "    false negative rate: 0.500000\n",
      "    accuracy: 0.500000\n",
      "Results for race 10:\n",
      "    30 ENTRIES TOTAL\n",
      "    false positive rate: 0.000000\n",
      "    false negative rate: 0.033333\n",
      "    accuracy: 0.966667\n",
      "Results for race 11:\n",
      "    14 ENTRIES TOTAL\n",
      "    false positive rate: 0.000000\n",
      "    false negative rate: 0.214286\n",
      "    accuracy: 0.785714\n",
      "No results for race 12\n",
      "No results for race 13\n",
      "No results for race 14\n",
      "Results for race 15:\n",
      "    2 ENTRIES TOTAL\n",
      "    false positive rate: 0.000000\n",
      "    false negative rate: 0.000000\n",
      "    accuracy: 1.000000\n",
      "Results for race 16:\n",
      "    14 ENTRIES TOTAL\n",
      "    false positive rate: 0.000000\n",
      "    false negative rate: 0.142857\n",
      "    accuracy: 0.857143\n",
      "No results for race 17\n",
      "No results for race 18\n",
      "Results for race 19:\n",
      "    2 ENTRIES TOTAL\n",
      "    false positive rate: 0.000000\n",
      "    false negative rate: 0.000000\n",
      "    accuracy: 1.000000\n",
      "No results for race 20\n",
      "No results for race 21\n",
      "No results for race 22\n",
      "Results for race 23:\n",
      "    1 ENTRIES TOTAL\n",
      "    false positive rate: 0.000000\n",
      "    false negative rate: 0.000000\n",
      "    accuracy: 1.000000\n",
      "No results for race 24\n",
      "No results for race 25\n",
      "Results for race 26:\n",
      "    3 ENTRIES TOTAL\n",
      "    false positive rate: 0.000000\n",
      "    false negative rate: 0.666667\n",
      "    accuracy: 0.333333\n"
     ]
    }
   ],
   "source": [
    "import pandas as pd\n",
    "def race_accuracy(testing, labels, res):\n",
    "    test_labels = [labels[i] for i in testing]\n",
    "    data = {\"race\":[], \"false positive\":[], \"false negative\":[], \"accuracy\":[], 'count':[]}\n",
    "    \n",
    "    # racial codes go from 1 to 26\n",
    "    for r in range(0, 27):\n",
    "\n",
    "        # indeces within res for the current group\n",
    "        current = []\n",
    "        for i in range(len(testing)):\n",
    "            if (race[testing[i]] == r):\n",
    "                current.append(i)\n",
    "\n",
    "        # calculate accuracy\n",
    "        accuracy = calc_accuracy([res[i] for i in current], [test_labels[i] for i in current])\n",
    "        try:\n",
    "            fp = sum([1 if accuracy[i] == 1 else 0 for i in range(len(accuracy))])/len(accuracy)\n",
    "            fn = sum([1 if accuracy[i] == -1 else 0 for i in range(len(accuracy))])/len(accuracy)\n",
    "            print(\"Results for race %d:\" % r)\n",
    "            print(\"    %d ENTRIES TOTAL\" % len(current))\n",
    "            print(\"    false positive rate: %4f\" % fp)\n",
    "            print(\"    false negative rate: %4f\" % fn)\n",
    "            print(\"    accuracy: %4f\" % (1-(fp + fn)))\n",
    "            data[\"race\"].append(r)\n",
    "            data[\"false positive\"].append(fp)\n",
    "            data[\"false negative\"].append(fn)\n",
    "            data[\"accuracy\"].append((1-(fp + fn)))\n",
    "            data[\"count\"].append(len(current))\n",
    "        except ZeroDivisionError:\n",
    "            print(\"No results for race %d\" % r)\n",
    "    \n",
    "    return pd.DataFrame(data)\n",
    "\n",
    "df = race_accuracy(testing_n, income_n, res_n)\n",
    "with open(\"2nb.csv\", \"w\") as fo:\n",
    "    writer = csv.writer(fo)\n",
    "    writer.writerow(['race', 'false positive', 'false negative', 'accuracy'])\n",
    "    for index, row in df.iterrows():\n",
    "        writer.writerow([row['race'], row['false positive'], row['false negative'], row['accuracy'], row['count']])"
   ]
  },
  {
   "cell_type": "markdown",
   "metadata": {},
   "source": [
    "# n-NB Models"
   ]
  },
  {
   "cell_type": "code",
   "execution_count": 18,
   "metadata": {},
   "outputs": [
    {
     "name": "stdout",
     "output_type": "stream",
     "text": [
      "0\n",
      "0\n",
      "14541\n",
      "1944\n",
      "6790\n",
      "791\n",
      "824\n",
      "767\n",
      "540\n",
      "164\n",
      "133\n",
      "45\n",
      "20\n",
      "7\n",
      "2\n",
      "88\n",
      "129\n",
      "8\n",
      "2\n",
      "10\n",
      "4\n",
      "87\n",
      "3\n",
      "2\n",
      "0\n",
      "1\n",
      "16\n"
     ]
    }
   ],
   "source": [
    "# race_fields[i] = 2d array of fields for race i\n",
    "race_fields = [[] for i in range(27)]\n",
    "race_labels = [[] for i in range(27)]\n",
    "for i in range(len(nonwhite)):\n",
    "    race_fields[race[i]].append(nonwhite[i])\n",
    "    race_labels[race[i]].append(income_n[i])\n",
    "for race_i in race_fields:\n",
    "    print(len(race_i))"
   ]
  },
  {
   "cell_type": "code",
   "execution_count": 46,
   "metadata": {},
   "outputs": [
    {
     "ename": "IndentationError",
     "evalue": "unindent does not match any outer indentation level (<tokenize>, line 16)",
     "output_type": "error",
     "traceback": [
      "\u001b[0;36m  File \u001b[0;32m\"<tokenize>\"\u001b[0;36m, line \u001b[0;32m16\u001b[0m\n\u001b[0;31m    '''  print()\u001b[0m\n\u001b[0m    ^\u001b[0m\n\u001b[0;31mIndentationError\u001b[0m\u001b[0;31m:\u001b[0m unindent does not match any outer indentation level\n"
     ]
    }
   ],
   "source": [
    "def run_race(race, fields, labels):\n",
    "    \n",
    "    print(\"TRAINING\")\n",
    "    print(\"-----------------------\")\n",
    "    print()\n",
    "    \n",
    "    training, testing = run_kfold(fields, labels)\n",
    "    \n",
    "    print()\n",
    "    print(\"RUNNING THE BEST MODEL\")\n",
    "    print(\"-----------------------\")\n",
    "    print()\n",
    "    \n",
    "    res, acc, fp, fn = run_model(training, testing, fields, labels)\n",
    "    \n",
    "  '''  print()\n",
    "    print(\"ACCURACY BY SEX\")\n",
    "    print(\"-----------------------\")\n",
    "    print()\n",
    "    \n",
    "    sex_accuracy(testing, fields, labels, res) '''\n",
    "    return res, acc, fp, fn "
   ]
  },
  {
   "cell_type": "code",
   "execution_count": 41,
   "metadata": {},
   "outputs": [
    {
     "name": "stdout",
     "output_type": "stream",
     "text": [
      "\n",
      "RACE 2 \n",
      "\n",
      "TRAINING\n",
      "-----------------------\n",
      "\n",
      "accuracy rate:  0.6\n",
      "accuracy rate:  0.625171939477304\n",
      "accuracy rate:  0.6141678129298487\n",
      "accuracy rate:  0.5873452544704264\n",
      "accuracy rate:  0.6368638239339752\n",
      "accuracy rate:  0.5845942228335625\n",
      "accuracy rate:  0.702200825309491\n",
      "accuracy rate:  0.6045392022008254\n",
      "accuracy rate:  0.579092159559835\n",
      "accuracy rate:  0.6176066024759285\n",
      "\n",
      "RUNNING THE BEST MODEL\n",
      "-----------------------\n",
      "\n",
      "false positive rate: 0.038514\n",
      "false negative rate: 0.259285\n",
      "accuracy: 0.702201\n",
      "\n",
      "ACCURACY BY SEX\n",
      "-----------------------\n",
      "\n",
      "Accuracy for male:\n",
      "    false positive rate: 0.035439\n",
      "    false negative rate: 0.268105\n",
      "    accuracy: 0.696456\n",
      "Accuracy for female:\n",
      "    false positive rate: 0.040994\n",
      "    false negative rate: 0.252174\n",
      "    accuracy: 0.706832\n",
      "\n",
      "RACE 3 \n",
      "\n",
      "TRAINING\n",
      "-----------------------\n",
      "\n",
      "accuracy rate:  0.6871794871794872\n",
      "accuracy rate:  0.7076923076923077\n",
      "accuracy rate:  0.7487179487179487\n",
      "accuracy rate:  0.5230769230769231\n",
      "accuracy rate:  0.7731958762886598\n",
      "accuracy rate:  0.5927835051546392\n",
      "accuracy rate:  0.4690721649484536\n",
      "accuracy rate:  0.8298969072164949\n",
      "accuracy rate:  0.5567010309278351\n",
      "accuracy rate:  0.18556701030927836\n",
      "\n",
      "RUNNING THE BEST MODEL\n",
      "-----------------------\n",
      "\n",
      "false positive rate: 0.113402\n",
      "false negative rate: 0.056701\n",
      "accuracy: 0.829897\n",
      "\n",
      "ACCURACY BY SEX\n",
      "-----------------------\n",
      "\n",
      "Accuracy for male:\n",
      "    false positive rate: 0.093023\n",
      "    false negative rate: 0.058140\n",
      "    accuracy: 0.848837\n",
      "Accuracy for female:\n",
      "    false positive rate: 0.129630\n",
      "    false negative rate: 0.055556\n",
      "    accuracy: 0.814815\n",
      "\n",
      "RACE 4 \n",
      "\n",
      "TRAINING\n",
      "-----------------------\n",
      "\n",
      "accuracy rate:  0.22974963181148747\n",
      "accuracy rate:  0.20176730486008837\n",
      "accuracy rate:  0.09572901325478646\n",
      "accuracy rate:  0.1325478645066274\n",
      "accuracy rate:  0.09278350515463918\n",
      "accuracy rate:  0.12665684830633284\n",
      "accuracy rate:  0.2606774668630339\n",
      "accuracy rate:  0.1251840942562592\n",
      "accuracy rate:  0.17378497790868924\n",
      "accuracy rate:  0.11782032400589101\n",
      "\n",
      "RUNNING THE BEST MODEL\n",
      "-----------------------\n",
      "\n",
      "false positive rate: 0.017673\n",
      "false negative rate: 0.721649\n",
      "accuracy: 0.260677\n",
      "\n",
      "ACCURACY BY SEX\n",
      "-----------------------\n",
      "\n",
      "Accuracy for male:\n",
      "    false positive rate: 0.012121\n",
      "    false negative rate: 0.681818\n",
      "    accuracy: 0.306061\n",
      "Accuracy for female:\n",
      "    false positive rate: 0.022923\n",
      "    false negative rate: 0.759312\n",
      "    accuracy: 0.217765\n",
      "\n",
      "RACE 5 \n",
      "\n",
      "TRAINING\n",
      "-----------------------\n",
      "\n",
      "accuracy rate:  0.5125\n",
      "accuracy rate:  0.34177215189873417\n",
      "accuracy rate:  0.22784810126582278\n",
      "accuracy rate:  0.35443037974683544\n",
      "accuracy rate:  0.2911392405063291\n",
      "accuracy rate:  0.11392405063291139\n",
      "accuracy rate:  0.189873417721519\n",
      "accuracy rate:  0.24050632911392406\n",
      "accuracy rate:  0.6455696202531646\n",
      "accuracy rate:  0.27848101265822783\n",
      "\n",
      "RUNNING THE BEST MODEL\n",
      "-----------------------\n",
      "\n",
      "false positive rate: 0.025316\n",
      "false negative rate: 0.329114\n",
      "accuracy: 0.645570\n",
      "\n",
      "ACCURACY BY SEX\n",
      "-----------------------\n",
      "\n",
      "Accuracy for male:\n",
      "    false positive rate: 0.000000\n",
      "    false negative rate: 0.366667\n",
      "    accuracy: 0.633333\n",
      "Accuracy for female:\n",
      "    false positive rate: 0.040816\n",
      "    false negative rate: 0.306122\n",
      "    accuracy: 0.653061\n",
      "\n",
      "RACE 6 \n",
      "\n",
      "TRAINING\n",
      "-----------------------\n",
      "\n",
      "accuracy rate:  0.20481927710843373\n",
      "accuracy rate:  0.27710843373493976\n",
      "accuracy rate:  0.10843373493975904\n",
      "accuracy rate:  0.20481927710843373\n",
      "accuracy rate:  0.2073170731707317\n",
      "accuracy rate:  0.36585365853658536\n",
      "accuracy rate:  0.2682926829268293\n",
      "accuracy rate:  0.1951219512195122\n",
      "accuracy rate:  0.14634146341463414\n",
      "accuracy rate:  0.10975609756097561\n",
      "\n",
      "RUNNING THE BEST MODEL\n",
      "-----------------------\n",
      "\n",
      "false positive rate: 0.012195\n",
      "false negative rate: 0.621951\n",
      "accuracy: 0.365854\n",
      "\n",
      "ACCURACY BY SEX\n",
      "-----------------------\n",
      "\n",
      "Accuracy for male:\n",
      "    false positive rate: 0.000000\n",
      "    false negative rate: 0.657895\n",
      "    accuracy: 0.342105\n",
      "Accuracy for female:\n",
      "    false positive rate: 0.022727\n",
      "    false negative rate: 0.590909\n",
      "    accuracy: 0.386364\n",
      "\n",
      "RACE 7 \n",
      "\n",
      "TRAINING\n",
      "-----------------------\n",
      "\n",
      "accuracy rate:  0.12987012987012986\n",
      "accuracy rate:  0.3246753246753247\n",
      "accuracy rate:  0.22077922077922077\n",
      "accuracy rate:  0.16883116883116883\n",
      "accuracy rate:  0.33766233766233766\n",
      "accuracy rate:  0.2727272727272727\n",
      "accuracy rate:  0.19480519480519481\n",
      "accuracy rate:  0.23684210526315788\n",
      "accuracy rate:  0.25\n",
      "accuracy rate:  0.3157894736842105\n",
      "\n",
      "RUNNING THE BEST MODEL\n",
      "-----------------------\n",
      "\n",
      "false positive rate: 0.000000\n",
      "false negative rate: 0.662338\n",
      "accuracy: 0.337662\n",
      "\n",
      "ACCURACY BY SEX\n",
      "-----------------------\n",
      "\n",
      "Accuracy for male:\n",
      "    false positive rate: 0.000000\n",
      "    false negative rate: 0.666667\n",
      "    accuracy: 0.333333\n",
      "Accuracy for female:\n",
      "    false positive rate: 0.000000\n",
      "    false negative rate: 0.657895\n",
      "    accuracy: 0.342105\n",
      "\n",
      "RACE 8 \n",
      "\n",
      "TRAINING\n",
      "-----------------------\n",
      "\n",
      "accuracy rate:  0.12962962962962962\n",
      "accuracy rate:  0.1111111111111111\n",
      "accuracy rate:  0.07407407407407407\n",
      "accuracy rate:  0.14814814814814814\n",
      "accuracy rate:  0.09259259259259259\n",
      "accuracy rate:  0.14814814814814814\n",
      "accuracy rate:  0.16666666666666666\n",
      "accuracy rate:  0.07407407407407407\n",
      "accuracy rate:  0.18518518518518517\n",
      "accuracy rate:  0.2037037037037037\n",
      "\n",
      "RUNNING THE BEST MODEL\n",
      "-----------------------\n",
      "\n",
      "false positive rate: 0.037037\n",
      "false negative rate: 0.759259\n",
      "accuracy: 0.203704\n",
      "\n",
      "ACCURACY BY SEX\n",
      "-----------------------\n",
      "\n",
      "Accuracy for male:\n",
      "    false positive rate: 0.000000\n",
      "    false negative rate: 0.750000\n",
      "    accuracy: 0.250000\n",
      "Accuracy for female:\n",
      "    false positive rate: 0.058824\n",
      "    false negative rate: 0.764706\n",
      "    accuracy: 0.176471\n",
      "\n",
      "false positive rate: 0.036273\n",
      "false negative rate: 0.399771\n",
      "accuracy: 0.563956\n"
     ]
    }
   ],
   "source": [
    "fp_overall = 0\n",
    "fn_overall = 0\n",
    "accuracy_overall = 0\n",
    "total = 0\n",
    "with open(\"nNB.csv\", \"w\") as fo:\n",
    "    writer = csv.writer(fo)\n",
    "    writer.writerow(['race', 'false positive', 'false negative', 'accuracy'])\n",
    "    \n",
    "    for i in range(len(race_fields)):\n",
    "        if len(race_fields[i]) > 350:\n",
    "            print()\n",
    "            print(\"RACE %d \" % i)\n",
    "            print()\n",
    "            res, acc, fp, fn = run_race(i, race_fields[i], race_labels[i])\n",
    "            writer.writerow([i, fp, fn, acc])\n",
    "            fp_overall += fp*len(res)\n",
    "            fn_overall += fn*len(res)\n",
    "            accuracy_overall += acc*len(res)\n",
    "            total += len(res)\n",
    "print()\n",
    "print(\"false positive rate: %4f\" % (fp_overall/total))\n",
    "print(\"false negative rate: %4f\" % (fn_overall/total))\n",
    "print(\"accuracy: %4f\" % (accuracy_overall/total))"
   ]
  },
  {
   "cell_type": "code",
   "execution_count": null,
   "metadata": {},
   "outputs": [],
   "source": []
  }
 ],
 "metadata": {
  "kernelspec": {
   "display_name": "Python 3",
   "language": "python",
   "name": "python3"
  },
  "language_info": {
   "codemirror_mode": {
    "name": "ipython",
    "version": 3
   },
   "file_extension": ".py",
   "mimetype": "text/x-python",
   "name": "python",
   "nbconvert_exporter": "python",
   "pygments_lexer": "ipython3",
   "version": "3.6.8"
  }
 },
 "nbformat": 4,
 "nbformat_minor": 2
}
