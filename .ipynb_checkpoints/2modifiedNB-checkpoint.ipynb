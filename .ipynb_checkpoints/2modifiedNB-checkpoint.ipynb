{
 "cells": [
  {
   "cell_type": "code",
   "execution_count": 1,
   "metadata": {},
   "outputs": [
    {
     "name": "stdout",
     "output_type": "stream",
     "text": [
      "0 HRHHID\n",
      "1 HETENURE\n",
      "2 HETELHHD\n",
      "3 HEFAMINC\n",
      "4 HRNUMHOU\n",
      "5 GEREG\n",
      "6 GEDIV\n",
      "7 GTINDVPC\n",
      "8 PRTAGE\n",
      "9 PEMARITL\n",
      "10 PESEX\n",
      "11 PEAFEVER\n",
      "12 PEEDUCA\n",
      "13 PTDTRACE\n",
      "14 PUCHINHH\n",
      "15 PEHSPNON\n",
      "16 PENATVTY\n",
      "17 PRCITSHP\n",
      "18 PUWK\n",
      "19 PUBUS1\n",
      "20 PUBUS2OT\n",
      "21 PUDIS\n",
      "22 PERET1\n",
      "23 PRIOELG\n",
      "24 PRCOW1\n",
      "25 PRCOW2\n",
      "26 PRCOWPG\n",
      "27 PEERNPER\n",
      "28 PEERNHRY\n",
      "29 PEERNLAB\n",
      "30 PEERNCOV\n",
      "31 PRCHLD\n",
      "32 PRNMCHLD\n",
      "33 race-binary\n"
     ]
    }
   ],
   "source": [
    "import csv\n",
    "\n",
    "file = 'cleaned2.csv'\n",
    "\n",
    "with open(file, 'r') as fi:\n",
    "    reader = csv.reader(fi)\n",
    "    headers = next(reader)\n",
    "    for i in range(len(headers)):\n",
    "        print(i, headers[i])     "
   ]
  },
  {
   "cell_type": "code",
   "execution_count": 2,
   "metadata": {},
   "outputs": [],
   "source": [
    "with open(file, 'r') as fi:\n",
    "    reader = csv.reader(fi)\n",
    "    headers = next(reader)\n",
    "    \n",
    "    white = []\n",
    "    nonwhite = []\n",
    "    income_w = []\n",
    "    income_n = []\n",
    "    \n",
    "    for line in reader:\n",
    "        \n",
    "        # remove id, income, race, and race_binary\n",
    "        data = []\n",
    "        for i in range(len(line)):\n",
    "            if i != 0 and i != 13 and i != 3 and i != 33:\n",
    "                data.append(int(line[i]))\n",
    "\n",
    "        # put in the correct racial category\n",
    "        if line[33] == '1':\n",
    "            white.append(data)\n",
    "            income_w.append(int(line[3]))\n",
    "        else:\n",
    "            nonwhite.append(data)\n",
    "            income_n.append(int(line[3]))"
   ]
  },
  {
   "cell_type": "code",
   "execution_count": 3,
   "metadata": {},
   "outputs": [
    {
     "name": "stdout",
     "output_type": "stream",
     "text": [
      "104841\n",
      "47354\n"
     ]
    }
   ],
   "source": [
    "# something that might cause problems - there's more than twice as much data for white people\n",
    "print(len(white))\n",
    "print(len(nonwhite))"
   ]
  },
  {
   "cell_type": "markdown",
   "metadata": {},
   "source": [
    "I am going to randomly divide the datasets into training data and experimental data. "
   ]
  },
  {
   "cell_type": "code",
   "execution_count": 4,
   "metadata": {},
   "outputs": [],
   "source": [
    "import random\n",
    "\n",
    "# training sets\n",
    "training_w = []\n",
    "training_iw = []\n",
    "training_n = []\n",
    "training_in = []\n",
    "\n",
    "# experimental sets \n",
    "exp_w = []\n",
    "exp_iw = []\n",
    "exp_n = []\n",
    "exp_in = []\n",
    "\n",
    "# white people\n",
    "for i in range(len(white)):\n",
    "    \n",
    "    # flip a coin to place in the training dataset\n",
    "    r = random.randint(0, 1)\n",
    "    if (r == 0):\n",
    "        training_w.append(white[i])\n",
    "        training_iw.append(income_w[i])\n",
    "    else:\n",
    "        exp_w.append(white[i])\n",
    "        exp_iw.append(income_w[i])\n",
    "\n",
    "# nonwhite people\n",
    "for i in range(len(nonwhite)):\n",
    "    \n",
    "    # flip a coin to place in the training dataset\n",
    "    r = random.randint(0, 1)\n",
    "    if (r == 0):\n",
    "        training_n.append(nonwhite[i])\n",
    "        training_in.append(income_n[i])\n",
    "    else:\n",
    "        exp_n.append(nonwhite[i])\n",
    "        exp_in.append(income_n[i])\n"
   ]
  },
  {
   "cell_type": "markdown",
   "metadata": {},
   "source": [
    "Let's make a model for white people"
   ]
  },
  {
   "cell_type": "code",
   "execution_count": 10,
   "metadata": {},
   "outputs": [
    {
     "name": "stdout",
     "output_type": "stream",
     "text": [
      "accuracy rate:  0.6608596856655936\n"
     ]
    }
   ],
   "source": [
    "import numpy as np\n",
    "from sklearn.naive_bayes import GaussianNB\n",
    "\n",
    "features_w = np.array(training_w)\n",
    "labels_w = np.array(training_iw)\n",
    "\n",
    "clf_w = GaussianNB()\n",
    "clf_w.fit(features_w, labels_w)\n",
    "\n",
    "res_w = clf_w.predict(exp_w)\n",
    "accuracy_w = [1 if res_w[i] == exp_iw[i] else 0 for i in range(len(res_w))]\n",
    "print(\"accuracy rate: \", sum(accuracy_w)/len(accuracy_w))\n"
   ]
  },
  {
   "cell_type": "markdown",
   "metadata": {},
   "source": [
    "And one for nonwhite people"
   ]
  },
  {
   "cell_type": "code",
   "execution_count": 6,
   "metadata": {},
   "outputs": [
    {
     "name": "stdout",
     "output_type": "stream",
     "text": [
      "accuracy rate:  0.7550078346673442\n"
     ]
    }
   ],
   "source": [
    "features_n = np.array(training_n)\n",
    "labels_n = np.array(training_in)\n",
    "\n",
    "clf_n = GaussianNB()\n",
    "clf_n.fit(features_n, labels_n)\n",
    "\n",
    "res_n = clf_n.predict(exp_n)\n",
    "accuracy_n = [1 if res_n[i] == exp_in[i] else 0 for i in range(len(res_n))]\n",
    "print(\"accuracy rate: \", sum(accuracy_n)/len(accuracy_n))"
   ]
  },
  {
   "cell_type": "markdown",
   "metadata": {},
   "source": [
    "That's not very accurate! Let's use k-fold cross validation to try to improve the accuracy of our model. Let's start with white people."
   ]
  },
  {
   "cell_type": "code",
   "execution_count": 32,
   "metadata": {},
   "outputs": [
    {
     "name": "stdout",
     "output_type": "stream",
     "text": [
      "accuracy rate:  0.6401525989508822\n",
      "accuracy rate:  0.6266692102251049\n",
      "accuracy rate:  0.6318199160625715\n",
      "accuracy rate:  0.6787485692483785\n",
      "accuracy rate:  0.6728347958794353\n",
      "accuracy rate:  0.6633918351774132\n",
      "accuracy rate:  0.6809423884013736\n",
      "accuracy rate:  0.6805608546356352\n",
      "accuracy rate:  0.6398321251430752\n",
      "accuracy rate:  0.6716901945822206\n"
     ]
    }
   ],
   "source": [
    "from sklearn.model_selection import KFold\n",
    "\n",
    "def run_kfold(fields, labels):\n",
    "    kf = KFold(n_splits=10)\n",
    "    best = [], []\n",
    "    best_accuracy = 0\n",
    "\n",
    "    for train_index, test_index in kf.split(fields):\n",
    "        train_fields = [fields[i] for i in train_index]\n",
    "        train_labels = [labels[i] for i in train_index]\n",
    "        test_fields = [fields[i] for i in test_index]\n",
    "        test_labels = [labels[i] for i in test_index]\n",
    "\n",
    "        clf = GaussianNB()\n",
    "        clf.fit(train_fields, train_labels)\n",
    "\n",
    "        res = clf.predict(test_fields).tolist()\n",
    "        \n",
    "        accuracy = []\n",
    "        for i in range(len(res)):\n",
    "            if res[i] == test_labels[i]:\n",
    "                accuracy.append(1)\n",
    "            else:\n",
    "                accuracy.append(0)\n",
    "        #accuracy = [1 if res[i] == test_labels[i] else 0 for i in range(len(res))]\n",
    "        acc = sum(accuracy)/len(accuracy)\n",
    "\n",
    "        if (acc > best_accuracy):\n",
    "            best = train_index, test_index\n",
    "            best_accuracy = acc\n",
    "\n",
    "        print(\"accuracy rate: \", acc)\n",
    "    return best\n",
    "\n",
    "training_w, testing_w = run_kfold(white, income_w)"
   ]
  },
  {
   "cell_type": "markdown",
   "metadata": {},
   "source": [
    "And now for nonwhite people"
   ]
  },
  {
   "cell_type": "code",
   "execution_count": 26,
   "metadata": {},
   "outputs": [
    {
     "name": "stdout",
     "output_type": "stream",
     "text": [
      "accuracy rate:  0.7204391891891891\n",
      "accuracy rate:  0.7584459459459459\n",
      "accuracy rate:  0.7132601351351351\n",
      "accuracy rate:  0.7362753378378378\n",
      "accuracy rate:  0.7387539598732841\n",
      "accuracy rate:  0.7662090813093981\n",
      "accuracy rate:  0.7531151003167899\n",
      "accuracy rate:  0.7607180570221753\n",
      "accuracy rate:  0.7465681098204857\n",
      "accuracy rate:  0.8259767687434002\n"
     ]
    }
   ],
   "source": [
    "training_n, testing_n = run_kfold(nonwhite, income_n)"
   ]
  },
  {
   "cell_type": "markdown",
   "metadata": {},
   "source": [
    "Let's examine the false positive and false negative rates respectively. White people:"
   ]
  },
  {
   "cell_type": "code",
   "execution_count": 41,
   "metadata": {},
   "outputs": [
    {
     "name": "stdout",
     "output_type": "stream",
     "text": [
      "false positive rate: 0.148989\n",
      "false negative rate: 0.170069\n",
      "accuracy: 0.680942\n"
     ]
    }
   ],
   "source": [
    "train_fields = [white[i] for i in training_w]\n",
    "train_labels = [income_w[i] for i in training_w]\n",
    "test_fields = [white[i] for i in testing_w]\n",
    "test_labels = [income_w[i] for i in testing_w]\n",
    "\n",
    "clf = GaussianNB()\n",
    "clf.fit(train_fields, train_labels)\n",
    "\n",
    "res = clf.predict(test_fields).tolist()\n",
    "\n",
    "accuracy = []\n",
    "for i in range(len(res)):\n",
    "    if res[i] == 1 and test_labels[i] == 0:\n",
    "        accuracy.append(1)\n",
    "    elif res[i] == 0 and test_labels[i] == 1:\n",
    "        accuracy.append(-1)\n",
    "    else:\n",
    "        accuracy.append(0)\n",
    "\n",
    "fp = sum([1 if accuracy[i] == 1 else 0 for i in range(len(accuracy))])/len(accuracy)\n",
    "fn = sum([1 if accuracy[i] == -1 else 0 for i in range(len(accuracy))])/len(accuracy)\n",
    "print(\"false positive rate: %4f\" % fp)\n",
    "print(\"false negative rate: %4f\" % fn)\n",
    "print(\"accuracy: %4f\" % (1-(fp + fn)))"
   ]
  },
  {
   "cell_type": "markdown",
   "metadata": {},
   "source": [
    "And now for nonwhite people"
   ]
  },
  {
   "cell_type": "code",
   "execution_count": null,
   "metadata": {},
   "outputs": [],
   "source": [
    "train_fields = [nonwhite[i] for i in training_n]\n",
    "train_labels = [income_n[i] for i in training_n]\n",
    "test_fields = [nonwhite[i] for i in testing_n]\n",
    "test_labels = [income_n[i] for i in testing_n]\n",
    "\n",
    "clf = GaussianNB()\n",
    "clf.fit(train_fields, train_labels)\n",
    "\n",
    "res = clf.predict(test_fields).tolist()\n",
    "\n",
    "accuracy = []\n",
    "for i in range(len(res)):\n",
    "    if res[i] == 1 and test_labels[i] == 0:\n",
    "        accuracy.append(1)\n",
    "    elif res[i] == 0 and test_labels[i] == 1:\n",
    "        accuracy.append(-1)\n",
    "    else:\n",
    "        accuracy.append(0)\n",
    "\n",
    "fp = sum([1 if accuracy[i] == 1 else 0 for i in range(len(accuracy))])/len(accuracy)\n",
    "fn = sum([1 if accuracy[i] == -1 else 0 for i in range(len(accuracy))])/len(accuracy)\n",
    "print(\"false positive rate: %4f\" % fp)\n",
    "print(\"false negative rate: %4f\" % fn)\n",
    "print(\"accuracy: %4f\" % (1-(fp + fn)))"
   ]
  }
 ],
 "metadata": {
  "kernelspec": {
   "display_name": "Python 3",
   "language": "python",
   "name": "python3"
  },
  "language_info": {
   "codemirror_mode": {
    "name": "ipython",
    "version": 3
   },
   "file_extension": ".py",
   "mimetype": "text/x-python",
   "name": "python",
   "nbconvert_exporter": "python",
   "pygments_lexer": "ipython3",
   "version": "3.6.8"
  }
 },
 "nbformat": 4,
 "nbformat_minor": 2
}
