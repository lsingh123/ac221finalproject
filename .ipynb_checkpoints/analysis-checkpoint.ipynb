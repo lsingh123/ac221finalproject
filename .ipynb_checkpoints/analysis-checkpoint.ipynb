{
 "cells": [
  {
   "cell_type": "code",
   "execution_count": 15,
   "metadata": {},
   "outputs": [
    {
     "data": {
      "text/html": [
       "<div>\n",
       "<style scoped>\n",
       "    .dataframe tbody tr th:only-of-type {\n",
       "        vertical-align: middle;\n",
       "    }\n",
       "\n",
       "    .dataframe tbody tr th {\n",
       "        vertical-align: top;\n",
       "    }\n",
       "\n",
       "    .dataframe thead th {\n",
       "        text-align: right;\n",
       "    }\n",
       "</style>\n",
       "<table border=\"1\" class=\"dataframe\">\n",
       "  <thead>\n",
       "    <tr style=\"text-align: right;\">\n",
       "      <th></th>\n",
       "      <th>race</th>\n",
       "      <th>fp</th>\n",
       "      <th>fn</th>\n",
       "      <th>acc</th>\n",
       "    </tr>\n",
       "  </thead>\n",
       "  <tbody>\n",
       "    <tr>\n",
       "      <th>0</th>\n",
       "      <td>2</td>\n",
       "      <td>0.126663</td>\n",
       "      <td>0.043061</td>\n",
       "      <td>0.830276</td>\n",
       "    </tr>\n",
       "    <tr>\n",
       "      <th>1</th>\n",
       "      <td>3</td>\n",
       "      <td>0.082278</td>\n",
       "      <td>0.047468</td>\n",
       "      <td>0.870253</td>\n",
       "    </tr>\n",
       "    <tr>\n",
       "      <th>2</th>\n",
       "      <td>4</td>\n",
       "      <td>0.048193</td>\n",
       "      <td>0.018072</td>\n",
       "      <td>0.933735</td>\n",
       "    </tr>\n",
       "    <tr>\n",
       "      <th>3</th>\n",
       "      <td>5</td>\n",
       "      <td>0.102564</td>\n",
       "      <td>0.051282</td>\n",
       "      <td>0.846154</td>\n",
       "    </tr>\n",
       "    <tr>\n",
       "      <th>4</th>\n",
       "      <td>6</td>\n",
       "      <td>0.180324</td>\n",
       "      <td>0.036893</td>\n",
       "      <td>0.782783</td>\n",
       "    </tr>\n",
       "    <tr>\n",
       "      <th>5</th>\n",
       "      <td>7</td>\n",
       "      <td>0.141264</td>\n",
       "      <td>0.052045</td>\n",
       "      <td>0.806691</td>\n",
       "    </tr>\n",
       "    <tr>\n",
       "      <th>6</th>\n",
       "      <td>8</td>\n",
       "      <td>0.054100</td>\n",
       "      <td>0.056346</td>\n",
       "      <td>0.889554</td>\n",
       "    </tr>\n",
       "    <tr>\n",
       "      <th>7</th>\n",
       "      <td>9</td>\n",
       "      <td>0.128576</td>\n",
       "      <td>0.039381</td>\n",
       "      <td>0.832043</td>\n",
       "    </tr>\n",
       "    <tr>\n",
       "      <th>8</th>\n",
       "      <td>1</td>\n",
       "      <td>0.182721</td>\n",
       "      <td>0.056815</td>\n",
       "      <td>0.760463</td>\n",
       "    </tr>\n",
       "  </tbody>\n",
       "</table>\n",
       "</div>"
      ],
      "text/plain": [
       "   race        fp        fn       acc\n",
       "0     2  0.126663  0.043061  0.830276\n",
       "1     3  0.082278  0.047468  0.870253\n",
       "2     4  0.048193  0.018072  0.933735\n",
       "3     5  0.102564  0.051282  0.846154\n",
       "4     6  0.180324  0.036893  0.782783\n",
       "5     7  0.141264  0.052045  0.806691\n",
       "6     8  0.054100  0.056346  0.889554\n",
       "7     9  0.128576  0.039381  0.832043\n",
       "8     1  0.182721  0.056815  0.760463"
      ]
     },
     "execution_count": 15,
     "metadata": {},
     "output_type": "execute_result"
    }
   ],
   "source": [
    "from scipy.stats import levene\n",
    "import pandas as pd\n",
    "import csv\n",
    "\n",
    "acc = {\"nnb\":[], \"2nb\":[], \"hirevue\":[], \"basic\":[]}\n",
    "with open(\"stats.csv\", \"r\") as fi:\n",
    "    reader = csv.reader(fi)\n",
    "    for line in reader:\n",
    "        acc[line[0]].append(line[1:])\n",
    "nnb = pd.DataFrame(acc[\"nnb\"], columns=[\"race\", \"fp\", \"fn\", \"acc\"])\n",
    "nnb.apply(pd.to_numeric)\n",
    "\n",
    "nb2 = pd.DataFrame(acc[\"2nb\"], columns=[\"race\", \"fp\", \"fn\", \"acc\"])\n",
    "nb2.apply(pd.to_numeric)\n",
    "\n",
    "hirevue = pd.DataFrame(acc[\"hirevue\"], columns=[\"race\", \"fp\", \"fn\", \"acc\"])\n",
    "hirevue.apply(pd.to_numeric)\n",
    "\n",
    "basic = pd.DataFrame(acc[\"basic\"], columns=[\"race\", \"fp\", \"fn\", \"acc\"])\n",
    "basic.apply(pd.to_numeric)\n"
   ]
  },
  {
   "cell_type": "markdown",
   "metadata": {},
   "source": [
    "Brown Forsyth Tests to confirm that differences in variance are statistically significant."
   ]
  },
  {
   "cell_type": "code",
   "execution_count": 19,
   "metadata": {},
   "outputs": [
    {
     "data": {
      "text/plain": [
       "LeveneResult(statistic=0.30167032017268597, pvalue=0.590421156826533)"
      ]
     },
     "execution_count": 19,
     "metadata": {},
     "output_type": "execute_result"
    }
   ],
   "source": [
    "levene(pd.to_numeric(nnb['acc']), pd.to_numeric(basic['acc']), center='median')"
   ]
  },
  {
   "cell_type": "code",
   "execution_count": 20,
   "metadata": {},
   "outputs": [
    {
     "data": {
      "text/plain": [
       "LeveneResult(statistic=0.022534115508631623, pvalue=0.8825509948639674)"
      ]
     },
     "execution_count": 20,
     "metadata": {},
     "output_type": "execute_result"
    }
   ],
   "source": [
    "levene(pd.to_numeric(nb2['acc']), pd.to_numeric(basic['acc']), center='median')"
   ]
  },
  {
   "cell_type": "markdown",
   "metadata": {},
   "source": [
    "McNemar Test to compare classifier accuracies of Hirevue and nNB models"
   ]
  },
  {
   "cell_type": "code",
   "execution_count": null,
   "metadata": {},
   "outputs": [],
   "source": []
  }
 ],
 "metadata": {
  "kernelspec": {
   "display_name": "Python 3",
   "language": "python",
   "name": "python3"
  },
  "language_info": {
   "codemirror_mode": {
    "name": "ipython",
    "version": 3
   },
   "file_extension": ".py",
   "mimetype": "text/x-python",
   "name": "python",
   "nbconvert_exporter": "python",
   "pygments_lexer": "ipython3",
   "version": "3.6.8"
  }
 },
 "nbformat": 4,
 "nbformat_minor": 2
}
