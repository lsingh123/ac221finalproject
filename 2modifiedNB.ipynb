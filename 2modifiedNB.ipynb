{
 "cells": [
  {
   "cell_type": "code",
   "execution_count": 85,
   "metadata": {},
   "outputs": [
    {
     "name": "stdout",
     "output_type": "stream",
     "text": [
      "0 HOUSEHOLD IDENTIFIER\n",
      "1 ARE YOUR LIVING QUARTERS...\n",
      "2 IS THERE A TELEPHONE IN THIS \n",
      "3 FAMILY INCOME\n",
      "4 TOTAL NUMBER OF PERSONS LIVING \n",
      "5 REGION\n",
      "6 DIVISION\n",
      "7 INDIVIDUAL PRINCIPAL CITY\n",
      "8 PERSONS AGE  \n",
      "9 MARITAL STATUS \n",
      "10 SEX\n",
      "11 DID YOU EVER SERVE ON ACTIVE \n",
      "12 HIGHEST LEVEL OF SCHOOL \n",
      "13 RACE\n",
      "14 CHANGE IN HOUSEHOLD COMPOSITION\n",
      "15 HISPANIC OR NON-HISPANIC\n",
      "16 COUNTRY OF BIRTH\n",
      "17 CITIZENSHIP STATUS\n",
      "18 LAST WEEK, DID YOU DO ANY WORK\n",
      "19 LAST WEEK, DID YOU DO ANY\n",
      "20 DO YOU RECEIVE ANY PAYMENTS\n",
      "21 DISABILITY STATUS\n",
      "22 DO YOU CURRENTLY WANT A JOB, EITHER \n",
      "23 INDUSTRY AND OCCUPATION \n",
      "24 CLASS OF WORKER\n",
      "25 CLASS OF WORKER\n",
      "26 COW - PRIVATE OR GOVERNMENT\n",
      "27 PERIODICITY\n",
      "28 HOURLY/NONHOURLY STATUS\n",
      "29 ON THIS JOB, ARE YOU A MEMBER OF A \n",
      "30 ON THIS JOB ARE YOU COVERED BY A UNION \n",
      "31 PRESENCE OF OWN CHILDREN <18 YEARS \n",
      "32 Number of own children <18 years of age \n",
      "33 race-binary\n"
     ]
    }
   ],
   "source": [
    "import csv\n",
    "\n",
    "file = 'cleaned2.csv'\n",
    "\n",
    "with open(file, 'r') as fi:\n",
    "    reader = csv.reader(fi)\n",
    "    headers = next(reader)\n",
    "    for i in range(len(headers)):\n",
    "        print(i, headers[i])     "
   ]
  },
  {
   "cell_type": "markdown",
   "metadata": {},
   "source": [
    "## Prep: Reading the data in"
   ]
  },
  {
   "cell_type": "code",
   "execution_count": 86,
   "metadata": {},
   "outputs": [],
   "source": [
    "with open(file, 'r') as fi:\n",
    "    reader = csv.reader(fi)\n",
    "    headers = next(reader)\n",
    "    \n",
    "    white = []\n",
    "    nonwhite = []\n",
    "    income_w = []\n",
    "    income_n = []\n",
    "    \n",
    "    for line in reader:\n",
    "        \n",
    "        # remove id, income, race, and race_binary\n",
    "        data = []\n",
    "        for i in range(len(line)):\n",
    "            if i != 0 and i != 13 and i != 3 and i != 33:\n",
    "                data.append(int(line[i]))\n",
    "\n",
    "        # put in the correct racial category\n",
    "        if int(line[13]) == 1:\n",
    "            white.append(data)\n",
    "            income_w.append(int(line[3]))\n",
    "        else:\n",
    "            nonwhite.append(data)\n",
    "            income_n.append(int(line[3]))"
   ]
  },
  {
   "cell_type": "code",
   "execution_count": 87,
   "metadata": {},
   "outputs": [
    {
     "name": "stdout",
     "output_type": "stream",
     "text": [
      "104841\n",
      "26918\n"
     ]
    }
   ],
   "source": [
    "# something that might cause problems - there's WAY more data for white people\n",
    "print(len(white))\n",
    "print(len(nonwhite))"
   ]
  },
  {
   "cell_type": "markdown",
   "metadata": {},
   "source": [
    "## Making the Models"
   ]
  },
  {
   "cell_type": "markdown",
   "metadata": {},
   "source": [
    "I am going to make the models using k-fold cross validation to try to improve the accuracy. Let's start with white people."
   ]
  },
  {
   "cell_type": "code",
   "execution_count": 88,
   "metadata": {},
   "outputs": [
    {
     "name": "stdout",
     "output_type": "stream",
     "text": [
      "accuracy rate:  0.6395803528850739\n",
      "accuracy rate:  0.6350629530713469\n",
      "accuracy rate:  0.6240938573063716\n",
      "accuracy rate:  0.6565242273941244\n",
      "accuracy rate:  0.6539488744753911\n",
      "accuracy rate:  0.6576688286913391\n",
      "accuracy rate:  0.6619610835558947\n",
      "accuracy rate:  0.6602441816100725\n",
      "accuracy rate:  0.631056848531095\n",
      "accuracy rate:  0.6458412819534529\n"
     ]
    }
   ],
   "source": [
    "import numpy as np\n",
    "from sklearn.naive_bayes import GaussianNB\n",
    "from sklearn.model_selection import KFold\n",
    "\n",
    "def run_kfold(fields, labels):\n",
    "    kf = KFold(n_splits=10)\n",
    "    best = [], []\n",
    "    best_accuracy = 0\n",
    "\n",
    "    for train_index, test_index in kf.split(fields):\n",
    "        train_fields = [fields[i] for i in train_index]\n",
    "        train_labels = [labels[i] for i in train_index]\n",
    "        test_fields = [fields[i] for i in test_index]\n",
    "        test_labels = [labels[i] for i in test_index]\n",
    "\n",
    "        clf = GaussianNB()\n",
    "        clf.fit(train_fields, train_labels)\n",
    "\n",
    "        res = clf.predict(test_fields).tolist()\n",
    "        \n",
    "        accuracy = []\n",
    "        for i in range(len(res)):\n",
    "            if res[i] == test_labels[i]:\n",
    "                accuracy.append(1)\n",
    "            else:\n",
    "                accuracy.append(0)\n",
    "        #accuracy = [1 if res[i] == test_labels[i] else 0 for i in range(len(res))]\n",
    "        acc = sum(accuracy)/len(accuracy)\n",
    "\n",
    "        if (acc > best_accuracy):\n",
    "            best = train_index, test_index\n",
    "            best_accuracy = acc\n",
    "\n",
    "        print(\"accuracy rate: \", acc)\n",
    "    return best\n",
    "\n",
    "training_w, testing_w = run_kfold(white, income_w)"
   ]
  },
  {
   "cell_type": "markdown",
   "metadata": {},
   "source": [
    "And now for nonwhite people"
   ]
  },
  {
   "cell_type": "code",
   "execution_count": 89,
   "metadata": {},
   "outputs": [
    {
     "name": "stdout",
     "output_type": "stream",
     "text": [
      "accuracy rate:  0.6110698365527489\n",
      "accuracy rate:  0.5913818722139673\n",
      "accuracy rate:  0.6080980683506686\n",
      "accuracy rate:  0.587667161961367\n",
      "accuracy rate:  0.6218424962852898\n",
      "accuracy rate:  0.6437592867756315\n",
      "accuracy rate:  0.5976968796433878\n",
      "accuracy rate:  0.6419019316493314\n",
      "accuracy rate:  0.6510590858416946\n",
      "accuracy rate:  0.5715347454477889\n"
     ]
    }
   ],
   "source": [
    "training_n, testing_n = run_kfold(nonwhite, income_n)"
   ]
  },
  {
   "cell_type": "markdown",
   "metadata": {},
   "source": [
    "## Accuracy"
   ]
  },
  {
   "cell_type": "markdown",
   "metadata": {},
   "source": [
    "### Differential Accuracy by Race Binary"
   ]
  },
  {
   "cell_type": "markdown",
   "metadata": {},
   "source": [
    "Let's examine the false positive and false negative rates respectively. **White people**:"
   ]
  },
  {
   "cell_type": "code",
   "execution_count": 90,
   "metadata": {},
   "outputs": [
    {
     "name": "stdout",
     "output_type": "stream",
     "text": [
      "Results of running the model for white people:\n",
      "false positive rate: 0.198588\n",
      "false negative rate: 0.139451\n",
      "accuracy: 0.661961\n"
     ]
    }
   ],
   "source": [
    "\n",
    "def run_model(training, testing, fields, labels):\n",
    "    train_fields = [fields[i] for i in training]\n",
    "    train_labels = [labels[i] for i in training]\n",
    "    test_fields = [fields[i] for i in testing]\n",
    "    test_labels = [labels[i] for i in testing]\n",
    "\n",
    "    clf = GaussianNB()\n",
    "    clf.fit(train_fields, train_labels)\n",
    "\n",
    "    res = clf.predict(test_fields).tolist()\n",
    "\n",
    "    accuracy = []\n",
    "    for i in range(len(res)):\n",
    "        if res[i] == 1 and test_labels[i] == 0:\n",
    "            accuracy.append(1)\n",
    "        elif res[i] == 0 and test_labels[i] == 1:\n",
    "            accuracy.append(-1)\n",
    "        else:\n",
    "            accuracy.append(0)\n",
    "\n",
    "    fp = sum([1 if accuracy[i] == 1 else 0 for i in range(len(accuracy))])/len(accuracy)\n",
    "    fn = sum([1 if accuracy[i] == -1 else 0 for i in range(len(accuracy))])/len(accuracy)\n",
    "    print(\"false positive rate: %4f\" % fp)\n",
    "    print(\"false negative rate: %4f\" % fn)\n",
    "    print(\"accuracy: %4f\" % (1-(fp + fn)))\n",
    "    return res\n",
    "\n",
    "print(\"Results of running the model for white people:\")\n",
    "res_w = run_model(training_w, testing_w, white, income_w)\n"
   ]
  },
  {
   "cell_type": "markdown",
   "metadata": {},
   "source": [
    "And now for **nonwhite people:**"
   ]
  },
  {
   "cell_type": "code",
   "execution_count": 91,
   "metadata": {},
   "outputs": [
    {
     "name": "stdout",
     "output_type": "stream",
     "text": [
      "Results of running the model for nonwhite people:\n",
      "false positive rate: 0.139353\n",
      "false negative rate: 0.209588\n",
      "accuracy: 0.651059\n"
     ]
    }
   ],
   "source": [
    "print(\"Results of running the model for nonwhite people:\")\n",
    "res_n = run_model(training_n, testing_n, nonwhite, income_n)"
   ]
  },
  {
   "cell_type": "markdown",
   "metadata": {},
   "source": [
    "### Differential Accuracy by Sex"
   ]
  },
  {
   "cell_type": "markdown",
   "metadata": {},
   "source": [
    "Let's examine differential accuracy for different subgroups. Let's initially break it down by sex."
   ]
  },
  {
   "cell_type": "code",
   "execution_count": 92,
   "metadata": {},
   "outputs": [],
   "source": [
    "def calc_accuracy(res, labels):\n",
    "    \n",
    "    accuracy = []\n",
    "    for i in range(len(res)):\n",
    "        if res[i] == 1 and labels[i] == 0:\n",
    "            accuracy.append(1)\n",
    "        elif res[i] == 0 and labels[i] == 1:\n",
    "            accuracy.append(-1)\n",
    "        else:\n",
    "            accuracy.append(0)\n",
    "    return accuracy\n",
    "\n",
    "\n",
    "def sex_accuracy(testing, fields, labels, res):\n",
    "    test_fields = [fields[i] for i in testing]\n",
    "    test_labels = [labels[i] for i in testing]\n",
    "        \n",
    "    male = []\n",
    "    female = []\n",
    "    \n",
    "    for i in range(len(testing)):\n",
    "        if fields[testing[i]][8] == 1:\n",
    "            male.append(i)\n",
    "        if fields[testing[i]][8] == 2:\n",
    "            female.append(i)\n",
    "            \n",
    "    accuracy = calc_accuracy([res[i] for i in male], [test_labels[i] for i in male])\n",
    "    fp = sum([1 if accuracy[i] == 1 else 0 for i in range(len(accuracy))])/len(accuracy)\n",
    "    fn = sum([1 if accuracy[i] == -1 else 0 for i in range(len(accuracy))])/len(accuracy)\n",
    "    print(\"Accuracy for male:\")\n",
    "    print(\"    false positive rate: %4f\" % fp)\n",
    "    print(\"    false negative rate: %4f\" % fn)\n",
    "    print(\"    accuracy: %4f\" % (1-(fp + fn)))\n",
    "    \n",
    "    accuracy = calc_accuracy([res[i] for i in female], [test_labels[i] for i in female])\n",
    "    fp = sum([1 if accuracy[i] == 1 else 0 for i in range(len(accuracy))])/len(accuracy)\n",
    "    fn = sum([1 if accuracy[i] == -1 else 0 for i in range(len(accuracy))])/len(accuracy)\n",
    "    print(\"Accuracy for female:\")\n",
    "    print(\"    false positive rate: %4f\" % fp)\n",
    "    print(\"    false negative rate: %4f\" % fn)\n",
    "    print(\"    accuracy: %4f\" % (1-(fp + fn)))\n",
    "    "
   ]
  },
  {
   "cell_type": "markdown",
   "metadata": {},
   "source": [
    "**Accuracy broken down by sex for nonwhite people**"
   ]
  },
  {
   "cell_type": "code",
   "execution_count": 93,
   "metadata": {},
   "outputs": [
    {
     "name": "stdout",
     "output_type": "stream",
     "text": [
      "Accuracy for male:\n",
      "    false positive rate: 0.126206\n",
      "    false negative rate: 0.212219\n",
      "    accuracy: 0.661576\n",
      "Accuracy for female:\n",
      "    false positive rate: 0.150657\n",
      "    false negative rate: 0.207326\n",
      "    accuracy: 0.642018\n"
     ]
    }
   ],
   "source": [
    "sex_accuracy(testing_n, nonwhite, income_n, res_n)"
   ]
  },
  {
   "cell_type": "markdown",
   "metadata": {},
   "source": [
    "**Accuracy broken down by sex for white people**"
   ]
  },
  {
   "cell_type": "code",
   "execution_count": 94,
   "metadata": {},
   "outputs": [
    {
     "name": "stdout",
     "output_type": "stream",
     "text": [
      "Accuracy for male:\n",
      "    false positive rate: 0.206658\n",
      "    false negative rate: 0.136810\n",
      "    accuracy: 0.656533\n",
      "Accuracy for female:\n",
      "    false positive rate: 0.190656\n",
      "    false negative rate: 0.142047\n",
      "    accuracy: 0.667297\n"
     ]
    }
   ],
   "source": [
    "sex_accuracy(testing_w, white, income_w, res_w)"
   ]
  },
  {
   "cell_type": "markdown",
   "metadata": {},
   "source": [
    "### Differential Accuracy By Race Categorical"
   ]
  },
  {
   "cell_type": "markdown",
   "metadata": {},
   "source": [
    "This is a little tricker. I first need some way to lookup up the race of each entry. Since I've removed unique identifiers, I'm going to have to go back and collect them. Let's make a list of just the racial categories."
   ]
  },
  {
   "cell_type": "code",
   "execution_count": 97,
   "metadata": {},
   "outputs": [],
   "source": [
    "race = []\n",
    "with open(file, 'r') as fi:\n",
    "    reader = csv.reader(fi)\n",
    "    headers = next(reader)\n",
    "    \n",
    "    for line in reader:\n",
    "        if (int(line[13]) != 1):\n",
    "            race.append(int(line[13]))"
   ]
  },
  {
   "cell_type": "markdown",
   "metadata": {},
   "source": [
    "**Accuracy by specific racial group for nonwhite people**"
   ]
  },
  {
   "cell_type": "code",
   "execution_count": 98,
   "metadata": {},
   "outputs": [
    {
     "name": "stdout",
     "output_type": "stream",
     "text": [
      "No results for race 0\n",
      "No results for race 1\n",
      "Results for race 2:\n",
      "    1776 ENTRIES TOTAL\n",
      "    false positive rate: 0.134572\n",
      "    false negative rate: 0.196509\n",
      "    accuracy: 0.668919\n",
      "Results for race 3:\n",
      "    183 ENTRIES TOTAL\n",
      "    false positive rate: 0.131148\n",
      "    false negative rate: 0.163934\n",
      "    accuracy: 0.704918\n",
      "Results for race 4:\n",
      "    436 ENTRIES TOTAL\n",
      "    false positive rate: 0.185780\n",
      "    false negative rate: 0.211009\n",
      "    accuracy: 0.603211\n",
      "Results for race 5:\n",
      "    21 ENTRIES TOTAL\n",
      "    false positive rate: 0.285714\n",
      "    false negative rate: 0.142857\n",
      "    accuracy: 0.571429\n",
      "Results for race 6:\n",
      "    112 ENTRIES TOTAL\n",
      "    false positive rate: 0.071429\n",
      "    false negative rate: 0.312500\n",
      "    accuracy: 0.616071\n",
      "Results for race 7:\n",
      "    80 ENTRIES TOTAL\n",
      "    false positive rate: 0.125000\n",
      "    false negative rate: 0.262500\n",
      "    accuracy: 0.612500\n",
      "Results for race 8:\n",
      "    35 ENTRIES TOTAL\n",
      "    false positive rate: 0.057143\n",
      "    false negative rate: 0.542857\n",
      "    accuracy: 0.400000\n",
      "Results for race 9:\n",
      "    11 ENTRIES TOTAL\n",
      "    false positive rate: 0.000000\n",
      "    false negative rate: 0.545455\n",
      "    accuracy: 0.454545\n",
      "Results for race 10:\n",
      "    14 ENTRIES TOTAL\n",
      "    false positive rate: 0.142857\n",
      "    false negative rate: 0.142857\n",
      "    accuracy: 0.714286\n",
      "Results for race 11:\n",
      "    1 ENTRIES TOTAL\n",
      "    false positive rate: 0.000000\n",
      "    false negative rate: 0.000000\n",
      "    accuracy: 1.000000\n",
      "Results for race 12:\n",
      "    2 ENTRIES TOTAL\n",
      "    false positive rate: 0.000000\n",
      "    false negative rate: 0.000000\n",
      "    accuracy: 1.000000\n",
      "No results for race 13\n",
      "No results for race 14\n",
      "Results for race 15:\n",
      "    1 ENTRIES TOTAL\n",
      "    false positive rate: 1.000000\n",
      "    false negative rate: 0.000000\n",
      "    accuracy: 0.000000\n",
      "Results for race 16:\n",
      "    13 ENTRIES TOTAL\n",
      "    false positive rate: 0.153846\n",
      "    false negative rate: 0.461538\n",
      "    accuracy: 0.384615\n",
      "Results for race 17:\n",
      "    2 ENTRIES TOTAL\n",
      "    false positive rate: 0.000000\n",
      "    false negative rate: 0.500000\n",
      "    accuracy: 0.500000\n",
      "No results for race 18\n",
      "Results for race 19:\n",
      "    1 ENTRIES TOTAL\n",
      "    false positive rate: 0.000000\n",
      "    false negative rate: 0.000000\n",
      "    accuracy: 1.000000\n",
      "No results for race 20\n",
      "Results for race 21:\n",
      "    3 ENTRIES TOTAL\n",
      "    false positive rate: 0.000000\n",
      "    false negative rate: 0.000000\n",
      "    accuracy: 1.000000\n",
      "No results for race 22\n",
      "No results for race 23\n",
      "No results for race 24\n",
      "No results for race 25\n",
      "No results for race 26\n"
     ]
    }
   ],
   "source": [
    "def race_accuracy(testing, labels, res):\n",
    "    test_labels = [labels[i] for i in testing]\n",
    "    \n",
    "    # racial codes go from 1 to 26\n",
    "    for r in range(0, 27):\n",
    "\n",
    "        # indeces within res for the current group\n",
    "        current = []\n",
    "        for i in range(len(testing)):\n",
    "            if (race[testing[i]] == r):\n",
    "                current.append(i)\n",
    "\n",
    "        # calculate accuracy\n",
    "        accuracy = calc_accuracy([res[i] for i in current], [test_labels[i] for i in current])\n",
    "        try:\n",
    "            fp = sum([1 if accuracy[i] == 1 else 0 for i in range(len(accuracy))])/len(accuracy)\n",
    "            fn = sum([1 if accuracy[i] == -1 else 0 for i in range(len(accuracy))])/len(accuracy)\n",
    "            print(\"Results for race %d:\" % r)\n",
    "            print(\"    %d ENTRIES TOTAL\" % len(current))\n",
    "            print(\"    false positive rate: %4f\" % fp)\n",
    "            print(\"    false negative rate: %4f\" % fn)\n",
    "            print(\"    accuracy: %4f\" % (1-(fp + fn)))\n",
    "        except ZeroDivisionError:\n",
    "            print(\"No results for race %d\" % r)\n",
    "\n",
    "race_accuracy(testing_n, income_n, res_n)"
   ]
  },
  {
   "cell_type": "code",
   "execution_count": null,
   "metadata": {},
   "outputs": [],
   "source": []
  }
 ],
 "metadata": {
  "kernelspec": {
   "display_name": "Python 3",
   "language": "python",
   "name": "python3"
  },
  "language_info": {
   "codemirror_mode": {
    "name": "ipython",
    "version": 3
   },
   "file_extension": ".py",
   "mimetype": "text/x-python",
   "name": "python",
   "nbconvert_exporter": "python",
   "pygments_lexer": "ipython3",
   "version": "3.6.8"
  }
 },
 "nbformat": 4,
 "nbformat_minor": 2
}
