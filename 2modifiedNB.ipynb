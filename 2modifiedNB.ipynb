{
 "cells": [
  {
   "cell_type": "code",
   "execution_count": 30,
   "metadata": {},
   "outputs": [
    {
     "name": "stdout",
     "output_type": "stream",
     "text": [
      "0 HRHHID\n",
      "1 HETENURE\n",
      "2 HETELHHD\n",
      "3 HEFAMINC\n",
      "4 HRNUMHOU\n",
      "5 GEREG\n",
      "6 GEDIV\n",
      "7 GTINDVPC\n",
      "8 PRTAGE\n",
      "9 PEMARITL\n",
      "10 PESEX\n",
      "11 PEAFEVER\n",
      "12 PEEDUCA\n",
      "13 PTDTRACE\n",
      "14 PUCHINHH\n",
      "15 PEHSPNON\n",
      "16 PENATVTY\n",
      "17 PRCITSHP\n",
      "18 PUWK\n",
      "19 PUBUS1\n",
      "20 PUBUS2OT\n",
      "21 PUDIS\n",
      "22 PERET1\n",
      "23 PRIOELG\n",
      "24 PRCOW1\n",
      "25 PRCOW2\n",
      "26 PRCOWPG\n",
      "27 PEERNPER\n",
      "28 PEERNHRY\n",
      "29 PEERNLAB\n",
      "30 PEERNCOV\n",
      "31 PRCHLD\n",
      "32 PRNMCHLD\n",
      "33 race-binary\n"
     ]
    }
   ],
   "source": [
    "import csv\n",
    "\n",
    "file = 'cleaned2.csv'\n",
    "\n",
    "with open(file, 'r') as fi:\n",
    "    reader = csv.reader(fi)\n",
    "    headers = next(reader)\n",
    "    for i in range(len(headers)):\n",
    "        print(i, headers[i])     "
   ]
  },
  {
   "cell_type": "code",
   "execution_count": 57,
   "metadata": {},
   "outputs": [],
   "source": [
    "with open(file, 'r') as fi:\n",
    "    reader = csv.reader(fi)\n",
    "    headers = next(reader)\n",
    "    \n",
    "    white = []\n",
    "    nonwhite = []\n",
    "    income_w = []\n",
    "    income_n = []\n",
    "    \n",
    "    for line in reader:\n",
    "        \n",
    "        # remove id, income, race, and race_binary\n",
    "        data = []\n",
    "        for i in range(len(line)):\n",
    "            if i != 0 and i != 13 and i != 3 and i != 33:\n",
    "                data.append(i)\n",
    "\n",
    "        # put in the correct racial category\n",
    "        if line[33] == '1':\n",
    "            white.append(data)\n",
    "            income_w.append(line[3])\n",
    "        else:\n",
    "            nonwhite.append(data)\n",
    "            income_n.append(line[3])"
   ]
  },
  {
   "cell_type": "markdown",
   "metadata": {},
   "source": [
    "I am going to randomly divide the datasets into training data and experimental data. "
   ]
  },
  {
   "cell_type": "code",
   "execution_count": 58,
   "metadata": {},
   "outputs": [
    {
     "name": "stdout",
     "output_type": "stream",
     "text": [
      "104841\n",
      "47354\n"
     ]
    }
   ],
   "source": [
    "# something that might cause problems - there's more than twice as much data for white people\n",
    "print(len(white))\n",
    "print(len(nonwhite))"
   ]
  },
  {
   "cell_type": "code",
   "execution_count": 59,
   "metadata": {},
   "outputs": [],
   "source": [
    "import random\n",
    "\n",
    "# training sets\n",
    "training_w = []\n",
    "training_iw = []\n",
    "training_n = []\n",
    "training_in = []\n",
    "\n",
    "# experimental sets \n",
    "exp_w = []\n",
    "exp_iw = []\n",
    "exp_n = []\n",
    "exp_in = []\n",
    "\n",
    "# white people\n",
    "for i in range(len(white)):\n",
    "    \n",
    "    # flip a coin to place in the training dataset\n",
    "    r = random.randint(0, 1)\n",
    "    if (r == 0):\n",
    "        training_w.append(white[i])\n",
    "        training_iw.append(income_w[i])\n",
    "    else:\n",
    "        exp_w.append(white[i])\n",
    "        exp_iw.append(income_w[i])\n",
    "\n",
    "# nonwhite people\n",
    "for i in range(len(nonwhite)):\n",
    "    \n",
    "    # flip a coin to place in the training dataset\n",
    "    r = random.randint(0, 1)\n",
    "    if (r == 0):\n",
    "        training_n.append(nonwhite[i])\n",
    "        training_in.append(income_n[i])\n",
    "    else:\n",
    "        exp_n.append(nonwhite[i])\n",
    "        exp_in.append(income_n[i])\n"
   ]
  },
  {
   "cell_type": "markdown",
   "metadata": {},
   "source": [
    "Let's make a model for white people"
   ]
  },
  {
   "cell_type": "code",
   "execution_count": 64,
   "metadata": {},
   "outputs": [
    {
     "name": "stderr",
     "output_type": "stream",
     "text": [
      "/Users/lavanyasingh/anaconda3/lib/python3.6/site-packages/sklearn/naive_bayes.py:450: RuntimeWarning: divide by zero encountered in log\n",
      "  n_ij = - 0.5 * np.sum(np.log(2. * np.pi * self.sigma_[i, :]))\n",
      "/Users/lavanyasingh/anaconda3/lib/python3.6/site-packages/sklearn/naive_bayes.py:452: RuntimeWarning: divide by zero encountered in true_divide\n",
      "  (self.sigma_[i, :]), 1)\n",
      "/Users/lavanyasingh/anaconda3/lib/python3.6/site-packages/sklearn/naive_bayes.py:452: RuntimeWarning: invalid value encountered in true_divide\n",
      "  (self.sigma_[i, :]), 1)\n"
     ]
    },
    {
     "name": "stdout",
     "output_type": "stream",
     "text": [
      "accuracy rate:  0.3332121675913526\n"
     ]
    }
   ],
   "source": [
    "import numpy as np\n",
    "from sklearn.naive_bayes import GaussianNB\n",
    "\n",
    "features_w = np.array(training_w)\n",
    "labels_w = np.array(training_iw)\n",
    "\n",
    "clf = GaussianNB()\n",
    "clf.fit(features_w, labels_w)\n",
    "\n",
    "success = 0\n",
    "total = 0\n",
    "res = clf.predict(exp_w)\n",
    "accuracy = [1 if res[i] == exp_iw[i] else 0 for i in range(len(res))]\n",
    "print(\"accuracy rate: \", sum(accuracy)/len(accuracy))\n"
   ]
  },
  {
   "cell_type": "markdown",
   "metadata": {},
   "source": [
    "And one for nonwhite people"
   ]
  },
  {
   "cell_type": "code",
   "execution_count": 61,
   "metadata": {},
   "outputs": [
    {
     "name": "stderr",
     "output_type": "stream",
     "text": [
      "/Users/lavanyasingh/anaconda3/lib/python3.6/site-packages/sklearn/naive_bayes.py:450: RuntimeWarning: divide by zero encountered in log\n",
      "  n_ij = - 0.5 * np.sum(np.log(2. * np.pi * self.sigma_[i, :]))\n",
      "/Users/lavanyasingh/anaconda3/lib/python3.6/site-packages/sklearn/naive_bayes.py:452: RuntimeWarning: divide by zero encountered in true_divide\n",
      "  (self.sigma_[i, :]), 1)\n",
      "/Users/lavanyasingh/anaconda3/lib/python3.6/site-packages/sklearn/naive_bayes.py:452: RuntimeWarning: invalid value encountered in true_divide\n",
      "  (self.sigma_[i, :]), 1)\n"
     ]
    },
    {
     "name": "stdout",
     "output_type": "stream",
     "text": [
      "accuracy rate:  0.6906806548500359\n"
     ]
    }
   ],
   "source": [
    "features_n = np.array(training_n)\n",
    "labels_n = np.array(training_in)\n",
    "\n",
    "clf = GaussianNB()\n",
    "clf.fit(features_n, labels_n)\n",
    "\n",
    "success = 0\n",
    "total = 0\n",
    "res = clf.predict(exp_n)\n",
    "accuracy = [1 if res[i] == exp_in[i] else 0 for i in range(len(res))]\n",
    "print(\"accuracy rate: \", sum(accuracy)/len(accuracy))"
   ]
  },
  {
   "cell_type": "code",
   "execution_count": null,
   "metadata": {},
   "outputs": [],
   "source": []
  }
 ],
 "metadata": {
  "kernelspec": {
   "display_name": "Python 3",
   "language": "python",
   "name": "python3"
  },
  "language_info": {
   "codemirror_mode": {
    "name": "ipython",
    "version": 3
   },
   "file_extension": ".py",
   "mimetype": "text/x-python",
   "name": "python",
   "nbconvert_exporter": "python",
   "pygments_lexer": "ipython3",
   "version": "3.6.8"
  }
 },
 "nbformat": 4,
 "nbformat_minor": 2
}
