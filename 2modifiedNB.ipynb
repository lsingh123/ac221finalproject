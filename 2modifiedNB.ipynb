{
 "cells": [
  {
   "cell_type": "code",
   "execution_count": 3,
   "metadata": {},
   "outputs": [
    {
     "name": "stdout",
     "output_type": "stream",
     "text": [
      "0 HRHHID\n",
      "1 HETENURE\n",
      "2 HETELHHD\n",
      "3 HEFAMINC\n",
      "4 HRNUMHOU\n",
      "5 GEREG\n",
      "6 GEDIV\n",
      "7 GTINDVPC\n",
      "8 PRTAGE\n",
      "9 PEMARITL\n",
      "10 PESEX\n",
      "11 PEAFEVER\n",
      "12 PEEDUCA\n",
      "13 PTDTRACE\n",
      "14 PUCHINHH\n",
      "15 PEHSPNON\n",
      "16 PENATVTY\n",
      "17 PRCITSHP\n",
      "18 PUWK\n",
      "19 PUBUS1\n",
      "20 PUBUS2OT\n",
      "21 PUDIS\n",
      "22 PERET1\n",
      "23 PRIOELG\n",
      "24 PRCOW1\n",
      "25 PRCOW2\n",
      "26 PRCOWPG\n",
      "27 PEERNPER\n",
      "28 PEERNHRY\n",
      "29 PUERNH1C\n",
      "30 PTHR\n",
      "31 PEERNHRO\n",
      "32 PEERNLAB\n",
      "33 PRCHLD\n",
      "34 PRNMCHLD\n",
      "35 race-binary\n"
     ]
    }
   ],
   "source": [
    "import csv\n",
    "\n",
    "file = 'cleaned2.csv'\n",
    "\n",
    "with open(file, 'r') as fi:\n",
    "    reader = csv.reader(fi)\n",
    "    headers = next(reader)\n",
    "    for i in range(len(headers)):\n",
    "        print(i, headers[i])     "
   ]
  },
  {
   "cell_type": "code",
   "execution_count": 5,
   "metadata": {},
   "outputs": [],
   "source": [
    "with open(file, 'r') as fi:\n",
    "    reader = csv.reader(fi)\n",
    "    headers = next(reader)\n",
    "    \n",
    "    white = []\n",
    "    nonwhite = []\n",
    "    \n",
    "    for line in reader:\n",
    "        if line[13] == 'white':\n",
    "            print(line[13])"
   ]
  },
  {
   "cell_type": "code",
   "execution_count": null,
   "metadata": {},
   "outputs": [],
   "source": []
  }
 ],
 "metadata": {
  "kernelspec": {
   "display_name": "Python 3",
   "language": "python",
   "name": "python3"
  },
  "language_info": {
   "codemirror_mode": {
    "name": "ipython",
    "version": 3
   },
   "file_extension": ".py",
   "mimetype": "text/x-python",
   "name": "python",
   "nbconvert_exporter": "python",
   "pygments_lexer": "ipython3",
   "version": "3.6.8"
  }
 },
 "nbformat": 4,
 "nbformat_minor": 2
}
