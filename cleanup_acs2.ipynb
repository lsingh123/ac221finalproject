{
 "cells": [
  {
   "cell_type": "code",
   "execution_count": null,
   "metadata": {},
   "outputs": [],
   "source": [
    "import csv\n",
    "\n",
    "dic = 'data/PUMSDataDict15.txt'\n",
    "file = 'data/ss15pusa/ss15pusa.csv'\n",
    "\n",
    "fields = []\n",
    "with open(dic, 'r', encoding='mac_roman', newline='') as fi:\n",
    "    index = 0\n",
    "    line = fi.readline()\n",
    "    flag = False\n",
    "    prev = None\n",
    "    while (line):\n",
    "        if not flag and (line.find('PERSON RECORD') != -1):\n",
    "            flag = True\n",
    "            continue\n",
    "        if flag and line[0:3].isupper() and line[0:2].find(' ') == -1 and prev==\"\\n\":\n",
    "            desc = fi.readline()\n",
    "            print(index, line.split('\\t')[0]+ \" \" + desc)\n",
    "            index += 1\n",
    "            fields.append(line.split('\\t')[0]+ \" \" + desc)\n",
    "        prev = line\n",
    "        line = fi.readline()"
   ]
  },
  {
   "cell_type": "code",
   "execution_count": null,
   "metadata": {},
   "outputs": [],
   "source": [
    "indeces = [4, 7, 8, 10, 11, 12, 13, 14, 18, 19, 20, 24, 25, 26, 27, 28, 29, 30, 32, 34, 35, 36, 37, 41, \n",
    "           42, 59, 62, 64, 66, 81, 84, 88, 91, 96, 97, 102, 103, 105, 110]\n",
    "indeces = [index for index in indeces]\n",
    "income = 101\n",
    "race = 110\n",
    "fields = [fields[i] for i in indeces]\n",
    "for i in range(len(fields)):\n",
    "    print(i, fields[i])"
   ]
  },
  {
   "cell_type": "code",
   "execution_count": null,
   "metadata": {},
   "outputs": [],
   "source": [
    "with open(file, 'r', encoding='mac_roman') as fi, open('cleaned_acs_1.csv', 'w', encoding='mac_roman') as fo:\n",
    "    reader = csv.reader(fi)\n",
    "    writer = csv.writer(fo)\n",
    "    count = 0\n",
    "    \n",
    "    for line in reader:\n",
    "        # remove missing race and income values\n",
    "        if (line[race] != '' and line[income] != ''):\n",
    "            count += 1\n",
    "            if (count % 25000 == 0):\n",
    "                print(count)\n",
    "            data = [line[i] for i in indeces]\n",
    "            #recode missing as -1\n",
    "            writer.writerow(['-1'if entry == '' else entry for entry in data])"
   ]
  },
  {
   "cell_type": "code",
   "execution_count": null,
   "metadata": {},
   "outputs": [],
   "source": [
    "with open('cleaned_acs_1.csv', 'r', encoding='mac_roman') as fi:\n",
    "    reader = csv.reader(fi)\n",
    "    headers = next(reader)\n",
    "    image = {i: set() for i in range(len(headers))}\n",
    "    \n",
    "    for line in reader:\n",
    "        for i in range(len(headers)):\n",
    "            image[i].add(line[i])\n",
    "for i in range(len(headers)):\n",
    "    print(i, headers[i], len(image[i]), list(image[i])[0:15])"
   ]
  },
  {
   "cell_type": "code",
   "execution_count": null,
   "metadata": {},
   "outputs": [],
   "source": [
    "# bin continuous values - need to preprocess data for that \n",
    "age = 1\n",
    "age_l = []\n",
    "travelt = 18\n",
    "travelt_l = []\n",
    "pap = 25\n",
    "pap_l = []\n",
    "income = 35\n",
    "income_l = []\n",
    "race= 38\n",
    "\n",
    "with open('cleaned_acs_1.csv', 'r', encoding='mac_roman') as fi:\n",
    "    reader = csv.reader(fi)\n",
    "    next(reader)\n",
    "        \n",
    "    for line in reader:\n",
    "        age_l.append(int(line[age]))\n",
    "        travelt_l.append(int(line[travelt]))\n",
    "        pap_l.append(int(line[pap]))\n",
    "        income_l.append(int(line[income]))"
   ]
  },
  {
   "cell_type": "code",
   "execution_count": null,
   "metadata": {},
   "outputs": [],
   "source": [
    "import numpy as np\n",
    "income_q = {1:np.quantile(income_l, 0.25), 2:np.quantile(income_l, 0.50), \n",
    "            3:np.quantile(income_l, 0.75), 4:np.quantile(income_l, 1), 5:np.quantile(income_l, 0.05)}\n",
    "age_q = {1:np.quantile(age_l, 0.25), 2:np.quantile(age_l, 0.50), \n",
    "            3:np.quantile(age_l, 0.75), 4:np.quantile(age_l, 1)}\n",
    "travelt_q = {1:np.quantile(travelt_l, 0.25), 2:np.quantile(travelt_l, 0.50), \n",
    "            3:np.quantile(travelt_l, 0.75), 4:np.quantile(travelt_l, 1)}\n",
    "pap_q = {1:np.quantile(pap_l, 0.25), 2:np.quantile(pap_l, 0.50), \n",
    "            3:np.quantile(pap_l, 0.75), 4:np.quantile(pap_l, 1)}"
   ]
  },
  {
   "cell_type": "code",
   "execution_count": null,
   "metadata": {},
   "outputs": [],
   "source": [
    "def get_q(index, quartiles, line):\n",
    "    if int(line[index]) < quartiles[1]:\n",
    "        line[index] = '0'\n",
    "    elif int(line[index]) < quartiles[2]:\n",
    "        line[index] = '1'\n",
    "    elif int(line[index]) < quartiles[3]:\n",
    "        line[index] = '2'\n",
    "    else:\n",
    "        line[index] = '3'\n",
    "    return line\n",
    "\n",
    "with open('cleaned_acs_1.csv', 'r', encoding='mac_roman') as fi, open('cleaned_acs_2.csv', 'w', encoding='mac_roman') as fo:\n",
    "    reader = csv.reader(fi)\n",
    "    writer = csv.writer(fo)\n",
    "    \n",
    "    # prepare the headers\n",
    "    headers = next(reader)\n",
    "    headers.append('race-binary')\n",
    "    writer.writerow(headers)\n",
    "    \n",
    "    for line in reader:        \n",
    "        # make race binary: 1 for white, 0 otherwise \n",
    "        line.append('1' if line[race] == '1' else '0')\n",
    "        \n",
    "        # bin income - 0 for low income and 1 for high\n",
    "        # we're treating low income as bottom 50%\n",
    "        if int(line[income]) < income_q[2]:\n",
    "            line[income] = '0'\n",
    "        else:\n",
    "            line[income] = '1'\n",
    "        \n",
    "        # bin age by quartile: 0, 1, 2, 3\n",
    "        line = get_q(age, age_q, line)\n",
    "        \n",
    "        # same for travel time and pap\n",
    "        line = get_q(travelt, travelt_q, line)\n",
    "        line = get_q(pap, pap_q, line)\n",
    "        \n",
    "        writer.writerow(line)"
   ]
  }
 ],
 "metadata": {
  "kernelspec": {
   "display_name": "Python 3",
   "language": "python",
   "name": "python3"
  },
  "language_info": {
   "codemirror_mode": {
    "name": "ipython",
    "version": 3
   },
   "file_extension": ".py",
   "mimetype": "text/x-python",
   "name": "python",
   "nbconvert_exporter": "python",
   "pygments_lexer": "ipython3",
   "version": "3.6.8"
  }
 },
 "nbformat": 4,
 "nbformat_minor": 2
}
