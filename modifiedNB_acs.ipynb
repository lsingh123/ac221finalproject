{
 "cells": [
  {
   "cell_type": "markdown",
   "metadata": {},
   "source": [
    "# 2-NB Models"
   ]
  },
  {
   "cell_type": "code",
   "execution_count": 1,
   "metadata": {},
   "outputs": [
    {
     "name": "stdout",
     "output_type": "stream",
     "text": [
      "0 ST\n",
      "1 AGEP\n",
      "2 CIT\n",
      "3 COW\n",
      "4 DDRS\n",
      "5 DEAR\n",
      "6 DEYE\n",
      "7 DOUT\n",
      "8 DREM\n",
      "9 ENG\n",
      "10 FER\n",
      "11 HINS1\n",
      "12 HINS2\n",
      "13 HINS3\n",
      "14 HINS4\n",
      "15 HINS5\n",
      "16 HINS6\n",
      "17 HINS7\n",
      "18 JWMNP\n",
      "19 JWTR\n",
      "20 LANX\n",
      "21 MAR\n",
      "22 MARHD\n",
      "23 MARHYP\n",
      "24 MIG\n",
      "25 PAP\n",
      "26 SCH\n",
      "27 SCHL\n",
      "28 SEX\n",
      "29 ESP\n",
      "30 FOD1P\n",
      "31 INDP\n",
      "32 LANP\n",
      "33 NATIVITY\n",
      "34 NOP\n",
      "35 PINCP\n",
      "36 POBP\n",
      "37 POWPUMA\n",
      "38 RAC1P\n",
      "39 race-binary\n"
     ]
    }
   ],
   "source": [
    "import csv\n",
    "\n",
    "file = 'cleaned_acs_2.csv'\n",
    "\n",
    "with open(file, 'r') as fi:\n",
    "    reader = csv.reader(fi)\n",
    "    headers = next(reader)\n",
    "    for i in range(len(headers)):\n",
    "        print(i, headers[i])     "
   ]
  },
  {
   "cell_type": "markdown",
   "metadata": {},
   "source": [
    "## Prep: Reading the data in"
   ]
  },
  {
   "cell_type": "code",
   "execution_count": 2,
   "metadata": {},
   "outputs": [],
   "source": [
    "race = 38\n",
    "race_b = 39\n",
    "income = 35\n",
    "sex = 28\n",
    "with open(file, 'r') as fi:\n",
    "    reader = csv.reader(fi)\n",
    "    headers = next(reader)\n",
    "    \n",
    "    white = []\n",
    "    nonwhite = []\n",
    "    income_w = []\n",
    "    income_n = []\n",
    "    \n",
    "    for line in reader:\n",
    "        \n",
    "        # remove id, income, race, and race_binary\n",
    "        data = []\n",
    "        for i in range(len(line)):\n",
    "            if i != race and i != race_b and i != income:\n",
    "                if (int(line[i]) == -1):\n",
    "                    data.append(1000000000)\n",
    "                else:\n",
    "                    data.append(int(line[i]))\n",
    "\n",
    "\n",
    "        # put in the correct racial category\n",
    "        if int(line[race_b]) == 1:\n",
    "            white.append(data)\n",
    "            income_w.append(int(line[income]))\n",
    "        else:\n",
    "            nonwhite.append(data)\n",
    "            income_n.append(int(line[income]))\n"
   ]
  },
  {
   "cell_type": "code",
   "execution_count": 3,
   "metadata": {},
   "outputs": [
    {
     "name": "stdout",
     "output_type": "stream",
     "text": [
      "1005027\n",
      "320470\n"
     ]
    }
   ],
   "source": [
    "# something that might cause problems - there's WAY more data for white people\n",
    "print(len(white))\n",
    "print(len(nonwhite))"
   ]
  },
  {
   "cell_type": "markdown",
   "metadata": {},
   "source": [
    "## Making the Models"
   ]
  },
  {
   "cell_type": "markdown",
   "metadata": {},
   "source": [
    "I am going to make the models using k-fold cross validation to try to improve the accuracy. Let's start with white people."
   ]
  },
  {
   "cell_type": "code",
   "execution_count": null,
   "metadata": {},
   "outputs": [],
   "source": [
    "import numpy as np\n",
    "from sklearn.naive_bayes import GaussianNB, CategoricalNB\n",
    "from sklearn.model_selection import KFold\n",
    "\n",
    "# returns indexes into fields and labels\n",
    "def run_kfold(fields, labels):\n",
    "    kf = KFold(n_splits=10)\n",
    "    best = [], []\n",
    "    best_accuracy = 0\n",
    "\n",
    "    # train_index and test_index index into fields and labels\n",
    "    for train_index, test_index in kf.split(fields):\n",
    "        train_fields = [fields[i] for i in train_index]\n",
    "        train_labels = [labels[i] for i in train_index]\n",
    "        test_fields = [fields[i] for i in test_index]\n",
    "        test_labels = [labels[i] for i in test_index]\n",
    "\n",
    "        clf = CategoricalNB()\n",
    "        clf.fit(train_fields, train_labels)\n",
    "\n",
    "        res = clf.predict(test_fields).tolist()\n",
    "        \n",
    "        accuracy = []\n",
    "        for i in range(len(res)):\n",
    "            if res[i] == test_labels[i]:\n",
    "                accuracy.append(1)\n",
    "            else:\n",
    "                accuracy.append(0)\n",
    "        accuracy = [1 if res[i] == test_labels[i] else 0 for i in range(len(res))]\n",
    "        acc = sum(accuracy)/len(accuracy)\n",
    "\n",
    "        if (acc > best_accuracy):\n",
    "            best = train_index, test_index\n",
    "            best_accuracy = acc\n",
    "\n",
    "        print(\"accuracy rate: \", acc)\n",
    "    return best\n",
    "\n",
    "training_w, testing_w = run_kfold(white, income_w)"
   ]
  },
  {
   "cell_type": "markdown",
   "metadata": {},
   "source": [
    "And now for nonwhite people"
   ]
  },
  {
   "cell_type": "code",
   "execution_count": 34,
   "metadata": {},
   "outputs": [
    {
     "name": "stdout",
     "output_type": "stream",
     "text": [
      "accuracy rate:  0.6214310231846975\n",
      "accuracy rate:  0.6186538521546479\n",
      "accuracy rate:  0.6185914438168939\n",
      "accuracy rate:  0.623396885823946\n",
      "accuracy rate:  0.6108216057665304\n",
      "accuracy rate:  0.5383031172964708\n",
      "accuracy rate:  0.5632040440602865\n",
      "accuracy rate:  0.6254875651387025\n",
      "accuracy rate:  0.6396854619777202\n",
      "accuracy rate:  0.6535713171279683\n"
     ]
    }
   ],
   "source": [
    "training_n, testing_n = run_kfold(nonwhite, income_n)"
   ]
  },
  {
   "cell_type": "markdown",
   "metadata": {},
   "source": [
    "## Accuracy"
   ]
  },
  {
   "cell_type": "markdown",
   "metadata": {},
   "source": [
    "### Differential Accuracy by Race Binary"
   ]
  },
  {
   "cell_type": "markdown",
   "metadata": {},
   "source": [
    "Let's examine the false positive and false negative rates respectively. **White people**:"
   ]
  },
  {
   "cell_type": "code",
   "execution_count": 35,
   "metadata": {},
   "outputs": [
    {
     "name": "stdout",
     "output_type": "stream",
     "text": [
      "Results of running the model for white people:\n",
      "false positive rate: 0.279285\n",
      "false negative rate: 0.046267\n",
      "accuracy: 0.674448\n"
     ]
    }
   ],
   "source": [
    "#training and testing index into fields and labels \n",
    "#so max(training) < len(fields) \n",
    "def run_model(training, testing, fields, labels):\n",
    "    train_fields = [fields[i] for i in training]\n",
    "    train_labels = [labels[i] for i in training]\n",
    "    test_fields = [fields[i] for i in testing]\n",
    "    test_labels = [labels[i] for i in testing]\n",
    "\n",
    "    clf = GaussianNB()\n",
    "    clf.fit(train_fields, train_labels)\n",
    "\n",
    "    res = clf.predict(test_fields).tolist()\n",
    "\n",
    "    accuracy = []\n",
    "    for i in range(len(res)):\n",
    "        if res[i] == 1 and test_labels[i] == 0:\n",
    "            accuracy.append(1)\n",
    "        elif res[i] == 0 and test_labels[i] == 1:\n",
    "            accuracy.append(-1)\n",
    "        else:\n",
    "            accuracy.append(0)\n",
    "\n",
    "    fp = sum([1 if accuracy[i] == 1 else 0 for i in range(len(accuracy))])/len(accuracy)\n",
    "    fn = sum([1 if accuracy[i] == -1 else 0 for i in range(len(accuracy))])/len(accuracy)\n",
    "    acc = sum([1 if accuracy[i] == 0 else 0 for i in range(len(accuracy))])/len(accuracy)\n",
    "    print(\"false positive rate: %4f\" % fp)\n",
    "    print(\"false negative rate: %4f\" % fn)\n",
    "    print(\"accuracy: %4f\" % acc)\n",
    "    return res, acc, fp, fn\n",
    "\n",
    "print(\"Results of running the model for white people:\")\n",
    "res_w, acc_w, fp_w, fn_w = run_model(training_w, testing_w, white, income_w)\n"
   ]
  },
  {
   "cell_type": "markdown",
   "metadata": {},
   "source": [
    "And now for **nonwhite people:**"
   ]
  },
  {
   "cell_type": "code",
   "execution_count": 36,
   "metadata": {},
   "outputs": [
    {
     "name": "stdout",
     "output_type": "stream",
     "text": [
      "Results of running the model for nonwhite people:\n",
      "false positive rate: 0.330795\n",
      "false negative rate: 0.015633\n",
      "accuracy: 0.653571\n"
     ]
    }
   ],
   "source": [
    "print(\"Results of running the model for nonwhite people:\")\n",
    "res_n, acc_n, fp_n, fn_n = run_model(training_n, testing_n, nonwhite, income_n)"
   ]
  },
  {
   "cell_type": "markdown",
   "metadata": {},
   "source": [
    "**Overall Accuracy**"
   ]
  },
  {
   "cell_type": "code",
   "execution_count": 37,
   "metadata": {},
   "outputs": [
    {
     "name": "stdout",
     "output_type": "stream",
     "text": [
      "false positive rate: 0.291739\n",
      "false negative rate: 0.038861\n",
      "accuracy: 0.669400\n"
     ]
    }
   ],
   "source": [
    "acc = (acc_n*len(res_n)+acc_w*len(res_w))/(len(res_n)+len(res_w))\n",
    "fp = (fp_n*len(res_n)+fp_w*len(res_w))/(len(res_n)+len(res_w))\n",
    "fn = (fn_n*len(res_n)+fn_w*len(res_w))/(len(res_n)+len(res_w))\n",
    "print(\"false positive rate: %4f\" % fp)\n",
    "print(\"false negative rate: %4f\" % fn)\n",
    "print(\"accuracy: %4f\" % acc)"
   ]
  },
  {
   "cell_type": "markdown",
   "metadata": {},
   "source": [
    "### Differential Accuracy by Sex"
   ]
  },
  {
   "cell_type": "markdown",
   "metadata": {},
   "source": [
    "Let's examine differential accuracy for different subgroups. Let's initially break it down by sex."
   ]
  },
  {
   "cell_type": "code",
   "execution_count": 38,
   "metadata": {},
   "outputs": [],
   "source": [
    "def calc_accuracy(res, labels):\n",
    "    \n",
    "    accuracy = []\n",
    "    for i in range(len(res)):\n",
    "        if res[i] == 1 and labels[i] == 0:\n",
    "            accuracy.append(1)\n",
    "        elif res[i] == 0 and labels[i] == 1:\n",
    "            accuracy.append(-1)\n",
    "        else:\n",
    "            accuracy.append(0)\n",
    "    return accuracy\n",
    "\n",
    "\n",
    "def sex_accuracy(testing, fields, labels, res):\n",
    "    test_fields = [fields[i] for i in testing]\n",
    "    test_labels = [labels[i] for i in testing]\n",
    "        \n",
    "    male = []\n",
    "    female = []\n",
    "    \n",
    "    for i in range(len(testing)):\n",
    "        if fields[testing[i]][sex] == 1:\n",
    "            male.append(i)\n",
    "        if fields[testing[i]][sex] == 2:\n",
    "            female.append(i)\n",
    "            \n",
    "    accuracy = calc_accuracy([res[i] for i in male], [test_labels[i] for i in male])\n",
    "    fp = sum([1 if accuracy[i] == 1 else 0 for i in range(len(accuracy))])/len(accuracy)\n",
    "    fn = sum([1 if accuracy[i] == -1 else 0 for i in range(len(accuracy))])/len(accuracy)\n",
    "    print(\"Accuracy for male:\")\n",
    "    print(\"    false positive rate: %4f\" % fp)\n",
    "    print(\"    false negative rate: %4f\" % fn)\n",
    "    print(\"    accuracy: %4f\" % (1-(fp + fn)))\n",
    "    \n",
    "    accuracy = calc_accuracy([res[i] for i in female], [test_labels[i] for i in female])\n",
    "    fpf = sum([1 if accuracy[i] == 1 else 0 for i in range(len(accuracy))])/len(accuracy)\n",
    "    fnf = sum([1 if accuracy[i] == -1 else 0 for i in range(len(accuracy))])/len(accuracy)\n",
    "    print(\"Accuracy for female:\")\n",
    "    print(\"    false positive rate: %4f\" % fpf)\n",
    "    print(\"    false negative rate: %4f\" % fnf)\n",
    "    print(\"    accuracy: %4f\" % (1-(fpf + fnf)))\n",
    "    "
   ]
  },
  {
   "cell_type": "markdown",
   "metadata": {},
   "source": [
    "**Accuracy broken down by sex for nonwhite people**"
   ]
  },
  {
   "cell_type": "code",
   "execution_count": 39,
   "metadata": {},
   "outputs": [
    {
     "name": "stdout",
     "output_type": "stream",
     "text": [
      "Accuracy for male:\n",
      "    false positive rate: 0.310132\n",
      "    false negative rate: 0.019408\n",
      "    accuracy: 0.670461\n",
      "Accuracy for female:\n",
      "    false positive rate: 0.349439\n",
      "    false negative rate: 0.012228\n",
      "    accuracy: 0.638333\n"
     ]
    }
   ],
   "source": [
    "sex_accuracy(testing_n, nonwhite, income_n, res_n)"
   ]
  },
  {
   "cell_type": "markdown",
   "metadata": {},
   "source": [
    "**Accuracy broken down by sex for white people**"
   ]
  },
  {
   "cell_type": "code",
   "execution_count": 40,
   "metadata": {},
   "outputs": [
    {
     "name": "stdout",
     "output_type": "stream",
     "text": [
      "Accuracy for male:\n",
      "    false positive rate: 0.234184\n",
      "    false negative rate: 0.057163\n",
      "    accuracy: 0.708652\n",
      "Accuracy for female:\n",
      "    false positive rate: 0.322796\n",
      "    false negative rate: 0.035755\n",
      "    accuracy: 0.641448\n"
     ]
    }
   ],
   "source": [
    "sex_accuracy(testing_w, white, income_w, res_w)"
   ]
  },
  {
   "cell_type": "markdown",
   "metadata": {},
   "source": [
    "### Differential Accuracy By Race Categorical"
   ]
  },
  {
   "cell_type": "markdown",
   "metadata": {},
   "source": [
    "This is a little tricker. I first need some way to lookup up the race of each entry. Since I've removed unique identifiers, I'm going to have to go back and collect them. Let's make a list of just the racial categories."
   ]
  },
  {
   "cell_type": "code",
   "execution_count": 63,
   "metadata": {},
   "outputs": [
    {
     "name": "stdout",
     "output_type": "stream",
     "text": [
      "1468\n"
     ]
    }
   ],
   "source": [
    "race_list = []\n",
    "with open(file, 'r') as fi:\n",
    "    reader = csv.reader(fi)\n",
    "    headers = next(reader)\n",
    "    \n",
    "    for line in reader:\n",
    "        if (int(line[race_b]) != 1):\n",
    "            race_list.append(int(line[race]))\n",
    "print(race_list.count(4))"
   ]
  },
  {
   "cell_type": "markdown",
   "metadata": {},
   "source": [
    "**Accuracy by specific racial group for nonwhite people**"
   ]
  },
  {
   "cell_type": "code",
   "execution_count": 61,
   "metadata": {},
   "outputs": [
    {
     "name": "stdout",
     "output_type": "stream",
     "text": [
      "No results for race 0\n",
      "No results for race 1\n",
      "Results for race 2:\n",
      "    19731 ENTRIES TOTAL\n",
      "    false positive rate: 0.335715\n",
      "    false negative rate: 0.013633\n",
      "    accuracy: 0.650651\n",
      "Results for race 3:\n",
      "    1002 ENTRIES TOTAL\n",
      "    false positive rate: 0.250499\n",
      "    false negative rate: 0.044910\n",
      "    accuracy: 0.704591\n",
      "Results for race 4:\n",
      "    8 ENTRIES TOTAL\n",
      "    false positive rate: 0.250000\n",
      "    false negative rate: 0.000000\n",
      "    accuracy: 0.750000\n",
      "Results for race 5:\n",
      "    212 ENTRIES TOTAL\n",
      "    false positive rate: 0.259434\n",
      "    false negative rate: 0.009434\n",
      "    accuracy: 0.731132\n",
      "Results for race 6:\n",
      "    5646 ENTRIES TOTAL\n",
      "    false positive rate: 0.360432\n",
      "    false negative rate: 0.014346\n",
      "    accuracy: 0.625221\n",
      "Results for race 7:\n",
      "    47 ENTRIES TOTAL\n",
      "    false positive rate: 0.382979\n",
      "    false negative rate: 0.000000\n",
      "    accuracy: 0.617021\n",
      "Results for race 8:\n",
      "    2424 ENTRIES TOTAL\n",
      "    false positive rate: 0.312706\n",
      "    false negative rate: 0.016914\n",
      "    accuracy: 0.670380\n",
      "Results for race 9:\n",
      "    2977 ENTRIES TOTAL\n",
      "    false positive rate: 0.288210\n",
      "    false negative rate: 0.021162\n",
      "    accuracy: 0.690628\n"
     ]
    }
   ],
   "source": [
    "import pandas as pd\n",
    "def race_accuracy(testing, labels, res):\n",
    "    test_labels = [labels[i] for i in testing]\n",
    "    data = {\"race\":[], \"false positive\":[], \"false negative\":[], \"accuracy\":[], 'count':[]}\n",
    "    \n",
    "    for r in range(max(race_list)+1):\n",
    "\n",
    "        # indeces within res for the current group\n",
    "        current = []\n",
    "        for i in range(len(testing)):\n",
    "            if (race_list[testing[i]] == r):\n",
    "                current.append(i)\n",
    "\n",
    "        # calculate accuracy\n",
    "        accuracy = calc_accuracy([res[i] for i in current], [test_labels[i] for i in current])\n",
    "        try:\n",
    "            fp = sum([1 if accuracy[i] == 1 else 0 for i in range(len(accuracy))])/len(accuracy)\n",
    "            fn = sum([1 if accuracy[i] == -1 else 0 for i in range(len(accuracy))])/len(accuracy)\n",
    "            print(\"Results for race %d:\" % r)\n",
    "            print(\"    %d ENTRIES TOTAL\" % len(current))\n",
    "            print(\"    false positive rate: %4f\" % fp)\n",
    "            print(\"    false negative rate: %4f\" % fn)\n",
    "            print(\"    accuracy: %4f\" % (1-(fp + fn)))\n",
    "            data[\"race\"].append(r)\n",
    "            data[\"false positive\"].append(fp)\n",
    "            data[\"false negative\"].append(fn)\n",
    "            data[\"accuracy\"].append((1-(fp + fn)))\n",
    "            data[\"count\"].append(len(current))\n",
    "        except ZeroDivisionError:\n",
    "            print(\"No results for race %d\" % r)\n",
    "    \n",
    "    return pd.DataFrame(data)\n",
    "\n",
    "df = race_accuracy(testing_n, income_n, res_n)\n",
    "with open(\"2nb.csv\", \"w\") as fo:\n",
    "    writer = csv.writer(fo)\n",
    "    writer.writerow(['race', 'false positive', 'false negative', 'accuracy'])\n",
    "    for index, row in df.iterrows():\n",
    "        writer.writerow([row['race'], row['false positive'], row['false negative'], row['accuracy'], row['count']])"
   ]
  },
  {
   "cell_type": "code",
   "execution_count": 65,
   "metadata": {},
   "outputs": [
    {
     "name": "stdout",
     "output_type": "stream",
     "text": [
      "100503\n"
     ]
    }
   ],
   "source": [
    "print(len(testing_w))"
   ]
  },
  {
   "cell_type": "code",
   "execution_count": 64,
   "metadata": {},
   "outputs": [
    {
     "name": "stdout",
     "output_type": "stream",
     "text": [
      "0    19731\n",
      "1     1002\n",
      "2        8\n",
      "3      212\n",
      "4     5646\n",
      "5       47\n",
      "6     2424\n",
      "7     2977\n",
      "Name: count, dtype: int64\n"
     ]
    }
   ],
   "source": [
    "print(df['count'])"
   ]
  },
  {
   "cell_type": "markdown",
   "metadata": {},
   "source": [
    "# n-NB Models"
   ]
  },
  {
   "cell_type": "code",
   "execution_count": 46,
   "metadata": {},
   "outputs": [
    {
     "name": "stdout",
     "output_type": "stream",
     "text": [
      "0\n",
      "0\n",
      "141760\n",
      "8818\n",
      "1468\n",
      "1690\n",
      "80366\n",
      "2777\n",
      "53477\n",
      "30114\n"
     ]
    }
   ],
   "source": [
    "# race_fields[i] = 2d array of fields for race i\n",
    "race_fields = [[] for i in range(max(race_list)+1)]\n",
    "race_labels = [[] for i in range(max(race_list)+1)]\n",
    "\n",
    "# iterate over each row in the data\n",
    "for i in range(len(nonwhite)):\n",
    "    race_fields[race_list[i]].append(nonwhite[i])\n",
    "    race_labels[race_list[i]].append(income_n[i])\n",
    "for race_i in race_fields:\n",
    "    print(len(race_i))"
   ]
  },
  {
   "cell_type": "code",
   "execution_count": 59,
   "metadata": {},
   "outputs": [],
   "source": [
    "def run_race(race, fields, labels):\n",
    "    \n",
    "    print(\"TRAINING\")\n",
    "    print(\"-----------------------\")\n",
    "    print()\n",
    "    \n",
    "    training, testing = run_kfold(fields, labels)\n",
    "    \n",
    "    print()\n",
    "    print(\"RUNNING THE BEST MODEL\")\n",
    "    print(\"-----------------------\")\n",
    "    print()\n",
    "    \n",
    "    res, acc, fp, fn = run_model(training, testing, fields, labels)\n",
    "    \n",
    "    print()\n",
    "    print(\"ACCURACY BY SEX\")\n",
    "    print(\"-----------------------\")\n",
    "    print()\n",
    "    \n",
    "    sex_accuracy(testing, fields, labels, res)\n",
    "    return res, acc, fp, fn "
   ]
  },
  {
   "cell_type": "code",
   "execution_count": 60,
   "metadata": {},
   "outputs": [
    {
     "name": "stdout",
     "output_type": "stream",
     "text": [
      "\n",
      "RACE 2 \n",
      "\n",
      "TRAINING\n",
      "-----------------------\n",
      "\n",
      "accuracy rate:  0.6093397291196389\n",
      "accuracy rate:  0.6676777652370203\n",
      "accuracy rate:  0.6187923250564334\n",
      "accuracy rate:  0.5359762979683973\n",
      "accuracy rate:  0.5759734762979684\n",
      "accuracy rate:  0.6173814898419865\n",
      "accuracy rate:  0.6563910835214447\n",
      "accuracy rate:  0.6233069977426636\n",
      "accuracy rate:  0.661117381489842\n",
      "accuracy rate:  0.638191309255079\n",
      "\n",
      "RUNNING THE BEST MODEL\n",
      "-----------------------\n",
      "\n",
      "false positive rate: 0.313699\n",
      "false negative rate: 0.018623\n",
      "accuracy: 0.667678\n",
      "0.6676777652370203 0.3136992099322799 0.018623024830699775\n",
      "\n",
      "ACCURACY BY SEX\n",
      "-----------------------\n",
      "\n",
      "Accuracy for male:\n",
      "    false positive rate: 0.299844\n",
      "    false negative rate: 0.020576\n",
      "    accuracy: 0.679580\n",
      "Accuracy for female:\n",
      "    false positive rate: 0.327395\n",
      "    false negative rate: 0.016692\n",
      "    accuracy: 0.655912\n",
      "\n",
      "RACE 3 \n",
      "\n",
      "TRAINING\n",
      "-----------------------\n",
      "\n",
      "accuracy rate:  0.6224489795918368\n",
      "accuracy rate:  0.6893424036281179\n",
      "accuracy rate:  0.6961451247165533\n",
      "accuracy rate:  0.6893424036281179\n",
      "accuracy rate:  0.6065759637188208\n",
      "accuracy rate:  0.6235827664399093\n",
      "accuracy rate:  0.6258503401360545\n",
      "accuracy rate:  0.5249433106575964\n",
      "accuracy rate:  0.5278093076049943\n",
      "accuracy rate:  0.5539160045402951\n",
      "\n",
      "RUNNING THE BEST MODEL\n",
      "-----------------------\n",
      "\n",
      "false positive rate: 0.289116\n",
      "false negative rate: 0.014739\n",
      "accuracy: 0.696145\n",
      "0.6961451247165533 0.2891156462585034 0.01473922902494331\n",
      "\n",
      "ACCURACY BY SEX\n",
      "-----------------------\n",
      "\n",
      "Accuracy for male:\n",
      "    false positive rate: 0.279412\n",
      "    false negative rate: 0.017157\n",
      "    accuracy: 0.703431\n",
      "Accuracy for female:\n",
      "    false positive rate: 0.297468\n",
      "    false negative rate: 0.012658\n",
      "    accuracy: 0.689873\n",
      "\n",
      "RACE 4 \n",
      "\n",
      "TRAINING\n",
      "-----------------------\n",
      "\n",
      "accuracy rate:  0.6870748299319728\n",
      "accuracy rate:  0.6190476190476191\n",
      "accuracy rate:  0.6258503401360545\n",
      "accuracy rate:  0.6394557823129252\n",
      "accuracy rate:  0.673469387755102\n",
      "accuracy rate:  0.6666666666666666\n",
      "accuracy rate:  0.6326530612244898\n",
      "accuracy rate:  0.6462585034013606\n",
      "accuracy rate:  0.684931506849315\n",
      "accuracy rate:  0.363013698630137\n",
      "\n",
      "RUNNING THE BEST MODEL\n",
      "-----------------------\n",
      "\n",
      "false positive rate: 0.306122\n",
      "false negative rate: 0.006803\n",
      "accuracy: 0.687075\n",
      "0.6870748299319728 0.30612244897959184 0.006802721088435374\n",
      "\n",
      "ACCURACY BY SEX\n",
      "-----------------------\n",
      "\n",
      "Accuracy for male:\n",
      "    false positive rate: 0.319444\n",
      "    false negative rate: 0.000000\n",
      "    accuracy: 0.680556\n",
      "Accuracy for female:\n",
      "    false positive rate: 0.293333\n",
      "    false negative rate: 0.013333\n",
      "    accuracy: 0.693333\n",
      "\n",
      "RACE 5 \n",
      "\n",
      "TRAINING\n",
      "-----------------------\n",
      "\n",
      "accuracy rate:  0.5976331360946746\n",
      "accuracy rate:  0.6745562130177515\n",
      "accuracy rate:  0.6390532544378699\n",
      "accuracy rate:  0.7159763313609467\n",
      "accuracy rate:  0.6804733727810651\n",
      "accuracy rate:  0.6449704142011834\n",
      "accuracy rate:  0.4970414201183432\n",
      "accuracy rate:  0.6153846153846154\n",
      "accuracy rate:  0.621301775147929\n",
      "accuracy rate:  0.6094674556213018\n",
      "\n",
      "RUNNING THE BEST MODEL\n",
      "-----------------------\n",
      "\n",
      "false positive rate: 0.236686\n",
      "false negative rate: 0.047337\n",
      "accuracy: 0.715976\n",
      "0.7159763313609467 0.23668639053254437 0.047337278106508875\n",
      "\n",
      "ACCURACY BY SEX\n",
      "-----------------------\n",
      "\n",
      "Accuracy for male:\n",
      "    false positive rate: 0.222222\n",
      "    false negative rate: 0.080808\n",
      "    accuracy: 0.696970\n",
      "Accuracy for female:\n",
      "    false positive rate: 0.257143\n",
      "    false negative rate: 0.000000\n",
      "    accuracy: 0.742857\n",
      "\n",
      "RACE 6 \n",
      "\n",
      "TRAINING\n",
      "-----------------------\n",
      "\n",
      "accuracy rate:  0.6221226825930073\n",
      "accuracy rate:  0.6470075898967277\n",
      "accuracy rate:  0.6521089958939903\n",
      "accuracy rate:  0.6521089958939903\n",
      "accuracy rate:  0.6646758740823691\n",
      "accuracy rate:  0.6519845713574717\n",
      "accuracy rate:  0.5761572921851668\n",
      "accuracy rate:  0.5685664509706322\n",
      "accuracy rate:  0.6071428571428571\n",
      "accuracy rate:  0.6615231458437033\n",
      "\n",
      "RUNNING THE BEST MODEL\n",
      "-----------------------\n",
      "\n",
      "false positive rate: 0.311932\n",
      "false negative rate: 0.023392\n",
      "accuracy: 0.664676\n",
      "0.6646758740823691 0.31193231305213387 0.023391812865497075\n",
      "\n",
      "ACCURACY BY SEX\n",
      "-----------------------\n",
      "\n",
      "Accuracy for male:\n",
      "    false positive rate: 0.272207\n",
      "    false negative rate: 0.029700\n",
      "    accuracy: 0.698093\n",
      "Accuracy for female:\n",
      "    false positive rate: 0.345317\n",
      "    false negative rate: 0.018090\n",
      "    accuracy: 0.636593\n",
      "\n",
      "RACE 7 \n",
      "\n",
      "TRAINING\n",
      "-----------------------\n",
      "\n",
      "accuracy rate:  0.6618705035971223\n",
      "accuracy rate:  0.6618705035971223\n",
      "accuracy rate:  0.6007194244604317\n",
      "accuracy rate:  0.6366906474820144\n",
      "accuracy rate:  0.564748201438849\n",
      "accuracy rate:  0.5827338129496403\n",
      "accuracy rate:  0.5935251798561151\n",
      "accuracy rate:  0.6714801444043321\n",
      "accuracy rate:  0.5812274368231047\n",
      "accuracy rate:  0.5523465703971119\n",
      "\n",
      "RUNNING THE BEST MODEL\n",
      "-----------------------\n",
      "\n",
      "false positive rate: 0.306859\n",
      "false negative rate: 0.021661\n",
      "accuracy: 0.671480\n",
      "0.6714801444043321 0.30685920577617326 0.021660649819494584\n",
      "\n",
      "ACCURACY BY SEX\n",
      "-----------------------\n",
      "\n",
      "Accuracy for male:\n",
      "    false positive rate: 0.278571\n",
      "    false negative rate: 0.042857\n",
      "    accuracy: 0.678571\n",
      "Accuracy for female:\n",
      "    false positive rate: 0.335766\n",
      "    false negative rate: 0.000000\n",
      "    accuracy: 0.664234\n",
      "\n",
      "RACE 8 \n",
      "\n",
      "TRAINING\n",
      "-----------------------\n",
      "\n",
      "accuracy rate:  0.6052729992520568\n",
      "accuracy rate:  0.6566940912490651\n",
      "accuracy rate:  0.6321989528795812\n",
      "accuracy rate:  0.6346297681376215\n",
      "accuracy rate:  0.6219147344801795\n",
      "accuracy rate:  0.6307030665669409\n",
      "accuracy rate:  0.6379955123410621\n",
      "accuracy rate:  0.5698522536001496\n",
      "accuracy rate:  0.5758369178978867\n",
      "accuracy rate:  0.6841219375350663\n",
      "\n",
      "RUNNING THE BEST MODEL\n",
      "-----------------------\n",
      "\n",
      "false positive rate: 0.296615\n",
      "false negative rate: 0.019263\n",
      "accuracy: 0.684122\n",
      "0.6841219375350663 0.29661492425659247 0.019263138208341125\n",
      "\n",
      "ACCURACY BY SEX\n",
      "-----------------------\n",
      "\n",
      "Accuracy for male:\n",
      "    false positive rate: 0.329128\n",
      "    false negative rate: 0.023432\n",
      "    accuracy: 0.647441\n",
      "Accuracy for female:\n",
      "    false positive rate: 0.261562\n",
      "    false negative rate: 0.014769\n",
      "    accuracy: 0.723669\n",
      "\n",
      "RACE 9 \n",
      "\n",
      "TRAINING\n",
      "-----------------------\n",
      "\n",
      "accuracy rate:  0.6125498007968128\n",
      "accuracy rate:  0.649402390438247\n",
      "accuracy rate:  0.6447543160690571\n",
      "accuracy rate:  0.6264940239043825\n",
      "accuracy rate:  0.6283626702092329\n",
      "accuracy rate:  0.5426768515443374\n",
      "accuracy rate:  0.5519760876785121\n",
      "accuracy rate:  0.6267020923281302\n",
      "accuracy rate:  0.644304217867818\n",
      "accuracy rate:  0.6931252075722352\n",
      "\n",
      "RUNNING THE BEST MODEL\n",
      "-----------------------\n",
      "\n",
      "false positive rate: 0.288941\n",
      "false negative rate: 0.017934\n",
      "accuracy: 0.693125\n",
      "0.6931252075722352 0.28894055131185653 0.017934241115908335\n",
      "\n",
      "ACCURACY BY SEX\n",
      "-----------------------\n",
      "\n",
      "Accuracy for male:\n",
      "    false positive rate: 0.263366\n",
      "    false negative rate: 0.023102\n",
      "    accuracy: 0.713531\n",
      "Accuracy for female:\n",
      "    false positive rate: 0.314840\n",
      "    false negative rate: 0.012701\n",
      "    accuracy: 0.672460\n",
      "\n",
      "false positive rate: 0.306903\n",
      "false negative rate: 0.019878\n",
      "accuracy: 0.673220\n"
     ]
    }
   ],
   "source": [
    "fp_overall = 0\n",
    "fn_overall = 0\n",
    "accuracy_overall = 0\n",
    "total = 0\n",
    "with open(\"nNB.csv\", \"w\") as fo:\n",
    "    writer = csv.writer(fo)\n",
    "    writer.writerow(['race', 'false positive', 'false negative', 'accuracy'])\n",
    "    \n",
    "    for i in range(len(race_fields)):\n",
    "        if len(race_fields[i]) > 350:\n",
    "            print()\n",
    "            print(\"RACE %d \" % i)\n",
    "            print()\n",
    "            res, acc, fp, fn = run_race(i, race_fields[i], race_labels[i])\n",
    "            writer.writerow([i, fp, fn, acc])\n",
    "            fp_overall += fp*len(res)\n",
    "            fn_overall += fn*len(res)\n",
    "            accuracy_overall += acc*len(res)\n",
    "            total += len(res)\n",
    "print()\n",
    "print(\"false positive rate: %4f\" % (fp_overall/total))\n",
    "print(\"false negative rate: %4f\" % (fn_overall/total))\n",
    "print(\"accuracy: %4f\" % (accuracy_overall/total))"
   ]
  },
  {
   "cell_type": "code",
   "execution_count": null,
   "metadata": {},
   "outputs": [],
   "source": []
  },
  {
   "cell_type": "code",
   "execution_count": null,
   "metadata": {},
   "outputs": [],
   "source": []
  }
 ],
 "metadata": {
  "kernelspec": {
   "display_name": "Python 3",
   "language": "python",
   "name": "python3"
  },
  "language_info": {
   "codemirror_mode": {
    "name": "ipython",
    "version": 3
   },
   "file_extension": ".py",
   "mimetype": "text/x-python",
   "name": "python",
   "nbconvert_exporter": "python",
   "pygments_lexer": "ipython3",
   "version": "3.6.8"
  }
 },
 "nbformat": 4,
 "nbformat_minor": 2
}
